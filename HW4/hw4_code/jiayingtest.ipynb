{
 "cells": [
  {
   "cell_type": "code",
   "execution_count": 1,
   "metadata": {},
   "outputs": [],
   "source": [
    "import numpy as np\n",
    "import pickle"
   ]
  },
  {
   "cell_type": "code",
   "execution_count": 32,
   "metadata": {},
   "outputs": [],
   "source": [
    "param=pickle.load(open('local_tests/test_data/nn_param.pickle', 'rb'))\n",
    "dLoss = pickle.load(open('local_tests/test_data/dLoss.pickle', 'rb'))\n",
    "ch = pickle.load(open('local_tests/test_data/test_compute_gradients_cache.pickle', 'rb'))\n",
    "al = 0.05\n",
    "y = np.array([[\n",
    "        0.77741921, -0.11877117, -0.19899818,  1.86647138, -0.4189379 ,\n",
    "    -0.47918492, -1.95210529, -1.40232915,  0.45112294, -0.6949209 ,\n",
    "        0.5154138 , -1.11487105, -0.76730983,  0.67457071,  1.46089238,\n",
    "        0.5924728 ,  1.19783084,  1.70459417,  1.04008915, -0.91844004,\n",
    "    -0.10534471,  0.63019567, -0.4148469 ,  0.45194604, -1.57915629,\n",
    "    -0.82862798,  0.52887975, -2.23708651, -1.1077125 , -0.01771832\n",
    "]])\n",
    "yh = np.array([[\n",
    "    -1.71939447,  0.057121  , -0.79954749, -0.2915946 , -0.25898285,\n",
    "        0.1892932 , -0.56378873,  0.08968641, -0.6011568 ,  0.55607351,\n",
    "        1.69380911,  0.19686978,  0.16986926, -1.16400797,  0.69336623,\n",
    "    -0.75806733, -0.8088472 ,  0.55743945,  0.18103874,  1.10717545,\n",
    "        1.44287693, -0.53968156,  0.12837699,  1.76041518,  0.96653925,\n",
    "        0.71304905,  1.30620607, -0.60460297,  0.63658341,  1.40925339\n",
    "]])\n",
    "dropout_prob=0.3"
   ]
  },
  {
   "cell_type": "code",
   "execution_count": 108,
   "metadata": {},
   "outputs": [],
   "source": [
    "a = np.array(range(331))"
   ]
  }
 ],
 "metadata": {
  "kernelspec": {
   "display_name": "Python 3.10.6",
   "language": "python",
   "name": "python3"
  },
  "language_info": {
   "codemirror_mode": {
    "name": "ipython",
    "version": 3
   },
   "file_extension": ".py",
   "mimetype": "text/x-python",
   "name": "python",
   "nbconvert_exporter": "python",
   "pygments_lexer": "ipython3",
   "version": "3.10.6"
  },
  "orig_nbformat": 4,
  "vscode": {
   "interpreter": {
    "hash": "68b83dbc569d5c7bd9c0da317a34e99d050eb881e375dec9172074d77022cce3"
   }
  }
 },
 "nbformat": 4,
 "nbformat_minor": 2
}
