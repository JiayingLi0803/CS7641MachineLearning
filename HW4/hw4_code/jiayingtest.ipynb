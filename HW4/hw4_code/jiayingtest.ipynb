{
 "cells": [
  {
   "cell_type": "code",
   "execution_count": 1,
   "metadata": {},
   "outputs": [],
   "source": [
    "import numpy as np\n",
    "import pickle"
   ]
  },
  {
   "cell_type": "code",
   "execution_count": 34,
   "metadata": {},
   "outputs": [],
   "source": [
    "param=pickle.load(open('local_tests/test_data/nn_param.pickle', 'rb'))\n",
    "dLoss = pickle.load(open('local_tests/test_data/dLoss.pickle', 'rb'))\n",
    "z = pickle.load(open('local_tests/test_data/nn_change.pickle', 'rb'))\n",
    "ch = pickle.load(open('local_tests/test_data/test_compute_gradients_cache.pickle', 'rb'))\n",
    "lr = 0.01\n",
    "al = 0.05\n",
    "be = 0.5"
   ]
  },
  {
   "cell_type": "code",
   "execution_count": 37,
   "metadata": {},
   "outputs": [],
   "source": [
    "def Tanh(u):\n",
    "    return (np.exp(u)-np.exp(-u))/(np.exp(u)+np.exp(-u))\n",
    "def Leaky_Relu(alpha, u):\n",
    "    return np.where(u > 0, u, alpha * u)"
   ]
  },
  {
   "cell_type": "code",
   "execution_count": 32,
   "metadata": {},
   "outputs": [],
   "source": [
    "y = np.array([[\n",
    "        0.77741921, -0.11877117, -0.19899818,  1.86647138, -0.4189379 ,\n",
    "    -0.47918492, -1.95210529, -1.40232915,  0.45112294, -0.6949209 ,\n",
    "        0.5154138 , -1.11487105, -0.76730983,  0.67457071,  1.46089238,\n",
    "        0.5924728 ,  1.19783084,  1.70459417,  1.04008915, -0.91844004,\n",
    "    -0.10534471,  0.63019567, -0.4148469 ,  0.45194604, -1.57915629,\n",
    "    -0.82862798,  0.52887975, -2.23708651, -1.1077125 , -0.01771832\n",
    "]])\n",
    "yh = np.array([[\n",
    "    -1.71939447,  0.057121  , -0.79954749, -0.2915946 , -0.25898285,\n",
    "        0.1892932 , -0.56378873,  0.08968641, -0.6011568 ,  0.55607351,\n",
    "        1.69380911,  0.19686978,  0.16986926, -1.16400797,  0.69336623,\n",
    "    -0.75806733, -0.8088472 ,  0.55743945,  0.18103874,  1.10717545,\n",
    "        1.44287693, -0.53968156,  0.12837699,  1.76041518,  0.96653925,\n",
    "        0.71304905,  1.30620607, -0.60460297,  0.63658341,  1.40925339\n",
    "]])"
   ]
  },
  {
   "cell_type": "code",
   "execution_count": 43,
   "metadata": {},
   "outputs": [
    {
     "name": "stdout",
     "output_type": "stream",
     "text": [
      "dLoss_o2 (1, 30)\n"
     ]
    },
    {
     "ename": "ValueError",
     "evalue": "operands could not be broadcast together with shapes (1,30) (1,5) ",
     "output_type": "error",
     "traceback": [
      "\u001b[0;31m---------------------------------------------------------------------------\u001b[0m",
      "\u001b[0;31mValueError\u001b[0m                                Traceback (most recent call last)",
      "Cell \u001b[0;32mIn [43], line 7\u001b[0m\n\u001b[1;32m      5\u001b[0m dLoss_theta2 \u001b[39m=\u001b[39m dLoss_u2 \u001b[39m*\u001b[39m ch[\u001b[39m\"\u001b[39m\u001b[39mo1\u001b[39m\u001b[39m\"\u001b[39m] \u001b[39m# IMPLEMENT THIS LINE\u001b[39;00m\n\u001b[1;32m      6\u001b[0m dLoss_b2 \u001b[39m=\u001b[39m dLoss_u2 \u001b[39m# IMPLEMENT THIS LINE\u001b[39;00m\n\u001b[0;32m----> 7\u001b[0m dLoss_o1 \u001b[39m=\u001b[39m dLoss_u2 \u001b[39m*\u001b[39;49m param[\u001b[39m\"\u001b[39;49m\u001b[39mtheta2\u001b[39;49m\u001b[39m\"\u001b[39;49m]  \u001b[39m# IMPLEMENT THIS LINE\u001b[39;00m\n\u001b[1;32m      9\u001b[0m \u001b[39mif\u001b[39;00m use_dropout:\n\u001b[1;32m     10\u001b[0m     do1du1 \u001b[39m=\u001b[39m mask \u001b[39m*\u001b[39m al \u001b[39m*\u001b[39m (Leaky_Relu(al, ch[\u001b[39m\"\u001b[39m\u001b[39mo1\u001b[39m\u001b[39m\"\u001b[39m]))\n",
      "\u001b[0;31mValueError\u001b[0m: operands could not be broadcast together with shapes (1,30) (1,5) "
     ]
    }
   ],
   "source": [
    "use_dropout = True\n",
    "dLoss_o2 = 1/len(y)*(ch[\"o2\"]-y) # IMPLEMENT THIS LINE\n",
    "print(\"dLoss_o2\", dLoss_o2.shape)\n",
    "dLoss_u2 = dLoss_o2* (1-(Tanh(ch[\"u2\"]))**2) # IMPLEMENT THIS LINE\n",
    "dLoss_theta2 = dLoss_u2 * ch[\"o1\"] # IMPLEMENT THIS LINE\n",
    "dLoss_b2 = dLoss_u2 # IMPLEMENT THIS LINE\n",
    "dLoss_o1 = dLoss_u2 * param[\"theta2\"]  # IMPLEMENT THIS LINE\n",
    "\n",
    "if use_dropout:\n",
    "    do1du1 = mask * al * (Leaky_Relu(al, ch[\"o1\"]))\n",
    "    dLoss_u1 = dLoss_o1 * do1du1 # IMPLEMENT THIS LINE\n",
    "else:\n",
    "    dLoss_u1 = np.dot(dLoss_o1, Leaky_Relu(alpha, ch[\"o1\"])) # IMPLEMENT THIS LINE\n",
    "\n",
    "\n",
    "dLoss_theta1 = np.dot(dLoss_u1, ch[\"X\"]) # IMPLEMENT THIS LINE\n",
    "dLoss_b1 = dLoss_u1 # IMPLEMENT THIS LINE\n",
    "\n",
    "dLoss = {'theta1': dLoss_theta1, 'b1': dLoss_b1, 'theta2': dLoss_theta2, 'b2': dLoss_b2}\n",
    "dLoss"
   ]
  }
 ],
 "metadata": {
  "kernelspec": {
   "display_name": "Python 3.10.6",
   "language": "python",
   "name": "python3"
  },
  "language_info": {
   "codemirror_mode": {
    "name": "ipython",
    "version": 3
   },
   "file_extension": ".py",
   "mimetype": "text/x-python",
   "name": "python",
   "nbconvert_exporter": "python",
   "pygments_lexer": "ipython3",
   "version": "3.10.6"
  },
  "orig_nbformat": 4,
  "vscode": {
   "interpreter": {
    "hash": "68b83dbc569d5c7bd9c0da317a34e99d050eb881e375dec9172074d77022cce3"
   }
  }
 },
 "nbformat": 4,
 "nbformat_minor": 2
}
