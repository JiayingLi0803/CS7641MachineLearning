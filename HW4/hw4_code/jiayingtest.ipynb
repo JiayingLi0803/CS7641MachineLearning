{
 "cells": [
  {
   "cell_type": "code",
   "execution_count": 32,
   "metadata": {},
   "outputs": [],
   "source": [
    "import numpy as np\n",
    "import pickle"
   ]
  },
  {
   "cell_type": "code",
   "execution_count": 8,
   "metadata": {},
   "outputs": [],
   "source": [
    "prob = 0.3\n",
    "u = np.array([\n",
    "    [ 1.76405235,  0.40015721,  0.97873798,  2.2408932 ,  1.86755799, -0.97727788],\n",
    "    [ 0.95008842, -0.15135721, -0.10321885,  0.4105985 ,  0.14404357,  1.45427351],\n",
    "    [ 0.76103773,  0.12167502,  0.44386323,  0.33367433,  1.49407907, -0.20515826],\n",
    "    [ 0.3130677 , -0.85409574, -2.55298982,  0.6536186 ,  0.8644362 , -0.74216502],\n",
    "    [ 2.26975462, -1.45436567,  0.04575852, -0.18718385,  1.53277921,  1.46935877]\n",
    "])"
   ]
  },
  {
   "cell_type": "code",
   "execution_count": 9,
   "metadata": {},
   "outputs": [
    {
     "data": {
      "text/plain": [
       "array([[ 2.52007479,  0.        ,  1.39819711,  3.201276  ,  2.66793999,\n",
       "        -1.39611126],\n",
       "       [ 1.35726917, -0.        , -0.        ,  0.58656929,  0.        ,\n",
       "         2.07753359],\n",
       "       [ 1.08719676,  0.        ,  0.63409033,  0.47667761,  2.13439867,\n",
       "        -0.        ],\n",
       "       [ 0.        , -0.        , -0.        ,  0.        ,  1.23490886,\n",
       "        -0.        ],\n",
       "       [ 3.2425066 , -2.07766524,  0.06536931, -0.        ,  2.18968459,\n",
       "         2.09908396]])"
      ]
     },
     "execution_count": 9,
     "metadata": {},
     "output_type": "execute_result"
    }
   ],
   "source": [
    "np.random.seed(0)\n",
    "u*np.random.binomial(1, 1-prob, size = u.shape)/(1-prob)\n"
   ]
  },
  {
   "cell_type": "code",
   "execution_count": 38,
   "metadata": {},
   "outputs": [],
   "source": [
    "param=pickle.load(open('local_tests/test_data/nn_param.pickle', 'rb'))\n",
    "dLoss = pickle.load(open('local_tests/test_data/dLoss.pickle', 'rb'))\n",
    "lr = 0.01"
   ]
  },
  {
   "cell_type": "code",
   "execution_count": 55,
   "metadata": {},
   "outputs": [
    {
     "name": "stdout",
     "output_type": "stream",
     "text": [
      "theta1\n",
      "b1\n",
      "theta2\n",
      "b2\n"
     ]
    }
   ],
   "source": [
    "for layer in dLoss:\n",
    "    print(layer)"
   ]
  },
  {
   "cell_type": "code",
   "execution_count": 53,
   "metadata": {},
   "outputs": [
    {
     "name": "stdout",
     "output_type": "stream",
     "text": [
      "[[ 4.74002237e-09  2.80225282e-09 -5.53590507e-10]\n",
      " [ 3.77709430e-09 -1.74328507e-09  2.39757170e-09]\n",
      " [ 4.01079725e-09 -4.79819773e-09 -1.21315910e-09]\n",
      " [ 1.92281738e-09 -1.44554257e-09  2.07158246e-09]\n",
      " [-2.52736906e-09  1.36372941e-09  4.03970490e-09]]\n"
     ]
    },
    {
     "data": {
      "text/plain": [
       "array([[False, False, False],\n",
       "       [False, False, False],\n",
       "       [False, False, False],\n",
       "       [False, False, False],\n",
       "       [False, False, False]])"
      ]
     },
     "execution_count": 53,
     "metadata": {},
     "output_type": "execute_result"
    }
   ],
   "source": [
    "test = param[\"theta1\"] - lr * dLoss[\"theta1\"]\n",
    "theta1 == test  # IMPLEMENT THIS LINE"
   ]
  },
  {
   "cell_type": "code",
   "execution_count": 44,
   "metadata": {},
   "outputs": [],
   "source": [
    "theta1 = np.array([\n",
    "    [ 0.94882242, -0.36464497, -0.31395601],\n",
    "    [-0.62450367,  0.49063477, -1.32195671],\n",
    "    [ 1.00859644, -0.43012531,  0.18687619],\n",
    "    [-0.14927761,  0.85106502, -1.18545526],\n",
    "    [-0.17927593, -0.21328183,  0.66129455]\n",
    "])\n",
    "b1 = np.array([[0.00012665], [0.0111731], [-0.00234416], [-0.01659802], [-0.00742044]])"
   ]
  },
  {
   "cell_type": "code",
   "execution_count": null,
   "metadata": {},
   "outputs": [],
   "source": [
    "param[\"b1\"] - lr * dLoss[\"b1\"]"
   ]
  }
 ],
 "metadata": {
  "kernelspec": {
   "display_name": "Python 3.10.6",
   "language": "python",
   "name": "python3"
  },
  "language_info": {
   "codemirror_mode": {
    "name": "ipython",
    "version": 3
   },
   "file_extension": ".py",
   "mimetype": "text/x-python",
   "name": "python",
   "nbconvert_exporter": "python",
   "pygments_lexer": "ipython3",
   "version": "3.10.6"
  },
  "orig_nbformat": 4,
  "vscode": {
   "interpreter": {
    "hash": "68b83dbc569d5c7bd9c0da317a34e99d050eb881e375dec9172074d77022cce3"
   }
  }
 },
 "nbformat": 4,
 "nbformat_minor": 2
}
