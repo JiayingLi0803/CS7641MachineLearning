{
 "cells": [
  {
   "cell_type": "markdown",
   "metadata": {
    "id": "Hjp__3bRh42K"
   },
   "source": [
    "## Fall 2022 CS 4641\\7641 A: Machine Learning Homework 4\n",
    "\n",
    "## Instructor: Dr. Mahdi Roozbahani\n",
    "\n",
    "## Deadline: Friday, December 2, 2022 11:59 pm AOE\n",
    "\n",
    "<!-- No changes needed on the below section -->\n",
    "* No unapproved extension of the deadline is allowed. Late submission will lead to 0 credit. \n",
    "\n",
    "* Discussion is encouraged on Ed as part of the Q/A. However, all assignments should be done individually.\n",
    "* <font color='darkred'>Plagiarism is a **serious offense**. You are responsible for completing your own work. You are not allowed to copy and paste, or paraphrase, or submit materials created or published by others, as if you created the materials. All materials submitted must be your own.</font>\n",
    "* <font color='darkred'>All incidents of suspected dishonesty, plagiarism, or violations of the Georgia Tech Honor Code will be subject to the institute’s Academic Integrity procedures. If we observe any (even small) similarities/plagiarisms detected by Gradescope or our TAs, **WE WILL DIRECTLY REPORT ALL CASES TO OSI**, which may, unfortunately, lead to a very harsh outcome. **Consequences can be severe, e.g., academic probation or dismissal, grade penalties, a 0 grade for assignments concerned, and prohibition from withdrawing from the class.**</font>\n",
    "\n"
   ]
  },
  {
   "cell_type": "markdown",
   "metadata": {
    "id": "wSJJRXYL2yOY"
   },
   "source": [
    "## Instructions for the assignment \n",
    "\n",
    "<!-- No changes needed on the below section -->\n",
    "- This assignment consists of both programming and theory questions.\n",
    "\n",
    "- Unless a theory question explicitly states that no work is required to be shown,  you must provide an explanation, justification, or calculation for your answer.\n",
    "\n",
    "- To switch between cell for code and for markdown, see the menu -> Cell -> Cell Type\n",
    "    \n",
    "- You can directly type Latex equations into markdown cells.\n",
    "    \n",
    "- If a question requires a picture, you could use this syntax `<img src=\"\" style=\"width: 300px;\"/>` to include them within your ipython notebook.\n",
    "\n",
    "- Your write up must be submitted in PDF form. You may use either Latex,  markdown, or any word processing software. <font color = 'darkred'>We will **NOT** accept handwritten work. </font> Make sure that your work is formatted correctly, for example submit $\\sum_{i=0} x_i$ instead of \\text{sum\\_\\{i=0\\} x\\_i}\n",
    "- When submitting the non-programming part of your assignment, you must correctly map pages of your PDF to each question/subquestion to reflect where they appear. <font color='darkred'>**Improperly mapped questions may not be graded correctly and/or will result in point deductions for the error.**</font>\n",
    "- All assignments should be done individually, and each student must write up and submit their own answers.\n",
    "- **Graduate Students**: You are required to complete any sections marked as Bonus for Undergrads  \n",
    " \n",
    "    "
   ]
  },
  {
   "cell_type": "markdown",
   "metadata": {
    "id": "nN-9x-Qm2yOY"
   },
   "source": [
    "## Using the autograder\n",
    "\n",
    "\n",
    "* You will find three assignments (for grads) on Gradescope that correspond to HW4: \"Assignment 4 Programming\", \"Assignment 4 - Non-programming\" and \"Assignment 4 Programming - Bonus for all\". Undergrads will have an additional assignment called \"Assignment 4 Programming - Bonus for Undergrads\". \n",
    "* You will submit your code for the autograder in the Assignment 4 Programming sections. Please refer to the Deliverables and Point Distribution section for what parts are considered required, bonus for undergrads, and bonus for all\".\n",
    "* We provided you different .py files and we added libraries in those files please DO NOT remove those lines and add your code after those lines. Note that these are the only allowed libraries that you can use for the homework \n",
    "* You are allowed to make as many submissions until the deadline as you like. Additionally, note that the autograder tests each function separately, therefore it can serve as a useful tool to help you debug your code if you are not sure of what part of your implementation might have an issue \n",
    "* **For the \"Assignment 4 - Non-programming\" part, you will download your Jupyter Notebook as html and submit it as a PDF on Gradescope. To download the notebook as html, click on \"File\" on the top left corner of this page and select \"Download as > html\". Then, open the html file and print to PDF.** Please refer to the Deliverables and Point Distribution section for an outline of the non-programming questions. \n",
    "* **When submitting to Gradescope, please make sure to mark the page(s) corresponding to each problem/sub-problem. The pages in the PDF should be of size 8.5\" x 11\", otherwise there may be a deduction in points for extra long sheets.**\n",
    "* You **MUST** pass the Autograder Test to gain points for the programming section. There will not be any partial credit or manual grading for this part."
   ]
  },
  {
   "cell_type": "markdown",
   "metadata": {
    "id": "609MA8lGdPzV"
   },
   "source": [
    "## Using the local tests <a id='using_local_tests'></a>\n",
    "- For some of the programming questions we have included a local test using a small toy dataset to aid in debugging. The local test sample data and outputs are stored in .py files in the **local_tests_folder**\n",
    "- There are no points associated with passing or failing the local tests, you must still pass the autograder to get points. \n",
    "- **It is possible to fail the local test and pass the autograder** since the autograder has a certain allowed error tolerance while the local test allowed error may be smaller. Likewise, passing the local tests does not guarantee passing the autograder. \n",
    "- **You do not need to pass both local and autograder tests to get points, passing the Gradescope autograder is sufficient for credit. **\n",
    "- It might be helpful to comment out the tests for functions that have not been completed yet. \n",
    "- It is recommended to test the functions as it gets completed instead of completing the whole class and then testing. This may help in isolating errors. Do not solely rely on the local tests, continue to test on the autograder regularly as well. "
   ]
  },
  {
   "cell_type": "markdown",
   "metadata": {
    "id": "N09bYK1-MnO1"
   },
   "source": [
    "## Deliverables and Points Distribution \n",
    "\n",
    "### Q1: Two Layer NN [80 pts; 55pts + 25pts Undergrad Bonus] \n",
    "#### Deliverables: <font color = 'green'>NN.py and Notebook Graphs</font>\n",
    "\n",
    "\n",
    "- **1.1 NN Implementation** [65pts; 50pts + 15pts **Bonus for Undergrad**] - _programming_\n",
    "\n",
    "    - Leaky relu [5pts]\n",
    "\n",
    "    - tanh [5pts]\n",
    "\n",
    "    - loss [5pts]\n",
    "\n",
    "    - dropout [5pts]\n",
    "\n",
    "    - forward with and without dropout [5pts + 5pts]\n",
    "    \n",
    "    - compute gradients and update weights [2.5pts + 2.5pts]\n",
    "\n",
    "    - backward without momentum [5pt]\n",
    "    \n",
    "    - Gradient Descent [10pts]\n",
    "    \n",
    "    - Batch Gradient Descent [10pts **Bonus for Undergrad**]\n",
    "\n",
    "    - Momentum [5pts **Bonus for Undergrad**]\n",
    "\n",
    "- **1.2 Loss plot and MSE for Gradient Descent** [5pts] - _non-programming_\n",
    "\n",
    "- **1.3 Loss plot and MSE for Batch Gradient Descent** [5pts **Bonus for Undergrad**] - _non-programming_\n",
    "\n",
    "- **1.4 Loss plot and MSE value for NN with Gradient Descent with Momentum** [5pts **Bonus for Undergrad**] - _non-programming_\n",
    "\n",
    "\n",
    "### Q2: CNN [20pts; 17pts Bonus for Undergrad + 3pts Bonus for All]\n",
    "#### Deliverables: <font color = 'green'>cnn.py and Written Report</font>\n",
    "\n",
    "- **2.1 Image Classification using Keras CNN** [17pts **Bonus for Undergrad**]\n",
    "\n",
    "    - 2.1.1 Loading the Model and Data Augmentation [5pts **Bonus for Undergrad**] - *programming*\n",
    "    \n",
    "    - 2.1.3 Building the Model [2pts **Bonus for Undergrad**] - *non-programming*\n",
    "\n",
    "    - 2.1.4 Training the Model [8pts **Bonus for Undergrad**] - *non-programming*\n",
    "\n",
    "    - 2.1.5 Examining Accuracy and Loss [2pts **Bonus for Undergrad**] - *non-programming*\n",
    "\n",
    "- **2.2 Exploring Deep CNN Architectures** [3pts **Bonus for All**] - *non-programming*\n",
    "\n",
    "### Q3: Random Forest [50pts; 40pts + 10pts Bonus for All]\n",
    "#### Deliverables: <font color = 'green'>random_forest.py and Written Report</font>\n",
    "\n",
    "- 3.1 Random Forest Implementation [35pts] - *programming*\n",
    "\n",
    "- 3.2 Hyperparameter Tuning with a Random Forest [5pts] - *programming*\n",
    "\n",
    "- 3.3 Plotting Feature Importance [5pts **Bonus for All**] - *non-programming*\n",
    "\n",
    "- 3.4 Improvement [5pts **Bonus for All**] - *non-programming*\n",
    "\n",
    "### Q4: SVM [30pts Bonus for all]\n",
    "#### Deliverables: <font color = 'green'>feature.py and Written Report</font>\n",
    "\n",
    "- 4.1: Fitting an SVM Classifier by hand [20pts] - *non programming*\n",
    "\n",
    "- 4.2: Feature Mapping [10pts] - *programming*\n"
   ]
  },
  {
   "cell_type": "markdown",
   "metadata": {
    "id": "7U0WVt07tGRv"
   },
   "source": [
    "## Environment Setup"
   ]
  },
  {
   "cell_type": "code",
   "execution_count": 1,
   "metadata": {
    "colab": {
     "base_uri": "https://localhost:8080/"
    },
    "id": "o0Ui6T2as9iI",
    "outputId": "d9a440f2-4324-48ea-d869-5c575b4a565f"
   },
   "outputs": [
    {
     "name": "stdout",
     "output_type": "stream",
     "text": [
      "Version information\n",
      "python: 3.10.6 (main, Oct 24 2022, 11:04:34) [Clang 12.0.0 ]\n",
      "matplotlib: 3.5.3\n",
      "numpy: 1.22.3\n"
     ]
    }
   ],
   "source": [
    "import sys\n",
    "import matplotlib\n",
    "import numpy as np \n",
    "import matplotlib.pyplot as plt\n",
    "from sklearn.datasets import load_diabetes\n",
    "from sklearn.preprocessing import MinMaxScaler\n",
    "\n",
    "from sklearn.model_selection import train_test_split\n",
    "from sklearn.metrics import classification_report\n",
    "from sklearn.metrics import plot_confusion_matrix\n",
    "from sklearn.metrics import mean_squared_error\n",
    "\n",
    "from collections import Counter\n",
    "from scipy import stats\n",
    "from math import log2, sqrt\n",
    "import pandas as pd\n",
    "import time\n",
    "from sklearn.model_selection import train_test_split\n",
    "from sklearn.preprocessing import LabelEncoder\n",
    "from sklearn.tree import DecisionTreeClassifier\n",
    "\n",
    "from sklearn.datasets import make_moons\n",
    "from sklearn.metrics import accuracy_score\n",
    "from sklearn import svm\n",
    "\n",
    "print('Version information')\n",
    "\n",
    "print('python: {}'.format(sys.version))\n",
    "print('matplotlib: {}'.format(matplotlib.__version__))\n",
    "print('numpy: {}'.format(np.__version__))\n",
    "\n",
    "%load_ext autoreload\n",
    "%autoreload 2\n",
    "%reload_ext autoreload\n",
    "%matplotlib inline"
   ]
  },
  {
   "cell_type": "markdown",
   "metadata": {
    "id": "Mq4QZ4su2yOd"
   },
   "source": [
    "# 1: Two Layer Neural Network [80 pts; 55pts + 25pts Undergrad Bonus] <span style=\"color:blue\">**[P]**</span><span style=\"color:green\">**[W]**</span>"
   ]
  },
  {
   "cell_type": "markdown",
   "metadata": {
    "id": "rs4bQgIAMnO6"
   },
   "source": [
    "### Perceptron\n",
    "\n",
    "<img src=\"./data/images/NN_image.png\">\n",
    "\n",
    "<br><br>\n",
    "\n",
    "A single layer perceptron can be thought of as a linear hyperplane as in logistic regression followed by a non-linear activation function. $$u_{i} = \\sum \\limits_{j=1}^{d} \\theta_{ij}x_{j}+b_{i}$$  $$o_{i} = \\phi \\left( \\sum \\limits_{j=1}^{d} \\theta_{ij}x_{j}+b_{i} \\right) = \\phi(\\theta_{i}^{T}x+b_{i})$$ where $x$ is a d-dimensional vector i.e. $x \\in R^{d}$. It is one datapoint with $d$ features. $\\theta_{i} \\in R^{d}$ is the weight vector for the $i^{th}$ hidden unit, $b_{i} \\in R$ is the bias element for the $i^{th}$ hidden unit and $\\phi(.)$ is a non-linear activation function that has been described below. $u_{i}$ is a linear combination of the features in $x_j$ weighted by $\\theta_{i}$ whereas $o_{i}$ is the $i^{th}$ output unit from the activation layer. "
   ]
  },
  {
   "cell_type": "markdown",
   "metadata": {},
   "source": [
    "## Fully connected Layer\n",
    "Typically, a modern neural network contains millions of perceptrons as the one shown in the previous image. Perceptrons interact in different configurations such as cascaded or parallel. In this part, we describe a fully connected layer configuration in a neural network which comprises multiple parallel perceptrons forming one layer. \n",
    "\n",
    "We extend the previous notation to describe a fully connected layer. Each layer in a fully connected network has a number of input/hidden/output units cascaded in parallel. Let us a define a single layer of the neural net as follows: <br>\n",
    "$m$ denotes the number of hidden units in a single layer $l$ whereas $n$ denotes the number of units in the previous layer $l-1$.\n",
    "$$u^{[l]}=\\theta^{[l]}o^{[l-1]}+b^{[l]}$$\n",
    "where $u^{[l]} \\in R^{m}$ is a m-dimensional vector pertaining to the hidden units of the $l^{th}$ layer of the neural network after applying linear operations. Similarly, $o^{[l-1]}$ is the n-dimensional output vector corresponding to the hidden units of the $(l-1)^{th}$ activation layer. $\\theta^{[l]} \\in R^{m \\times n}$ is the weight matrix of the $l^{th}$ layer where each row of $\\theta^{[l]}$ is analogous to $\\theta_{i}$ described in the previous section i.e. each row corresponds to one hidden unit of the $l^{th}$ layer. $b^{[l]} \\in R^{m}$ is the bias vector of the layer where each element of b pertains to one hidden unit of the $l^{th}$ layer. This is followed by element wise non-linear activation function $o^{[l]} = \\phi(u^{[l]})$.\n",
    "The whole operation can be summarized as,\n",
    "$$o^{[l]} = \\phi(\\theta^{[l]}o^{[l-1]}+b^{[l]}) $$\n",
    "where $o^{[l-1]}$ is the output of the previous layer."
   ]
  },
  {
   "cell_type": "markdown",
   "metadata": {},
   "source": [
    "## Activation Function \n",
    "There are many activation functions in the literature but for this question we are going to use Leaky Relu and Tanh only. \n",
    "\n",
    "<span>**HINT 1: When calculating the tanh and leaky relu function, make sure you are not modifying the values in the original passed in matrix. You may find np.copy() helpful (`u` should not be modified in the method.)**</span>\n",
    ".\n",
    "### ReLU and Leaky ReLU\n",
    "The rectified linear unit (ReLU) is one of the most commonly used activation functions in deep learning models. The mathematical form is $$o = \\phi(u) = max(0,u)$$One of the advantages of Relu is that it is a fast nonlinearity. <br> The derivative of relu function is given as $o' = \\phi'(u) = \\begin{cases}\n",
    "0& u \\leq 0 \\\\\n",
    "1& u > 0\n",
    "\\end{cases} $  \n",
    "\n",
    "![ReLU](data/images/relu.png)\n",
    "\n",
    "Leaky ReLU is a type of activation function based on a ReLU. The difference is that it has a small slope (such as $\\alpha = 0.05$) for negative values instead of a flat slope. The slope coefficient is determined before training. Leaky relu is a popular solution for sparse gradients, for example training generative adversarial networks.\n",
    "\n",
    "It takes the form\n",
    "$$o = \\phi(u) = \\begin{cases}\n",
    "    \\alpha u & u \\leq 0 \\\\\n",
    "    u & u > 0\n",
    "\\end{cases} $$\n",
    "\n",
    "Here in our homework, we are going to implement Leaky ReLU.\n",
    "\n",
    "![Leaky ReLU](data/images/leaky_relu.png)"
   ]
  },
  {
   "cell_type": "markdown",
   "metadata": {},
   "source": [
    "In the <strong>NN.py</strong> file, complete the following functions:\n",
    "  * <strong>Leaky Relu</strong>: Recall Hint 1"
   ]
  },
  {
   "cell_type": "code",
   "execution_count": 2,
   "metadata": {},
   "outputs": [
    {
     "name": "stdout",
     "output_type": "stream",
     "text": [
      "test_leaky_relu passed!\n"
     ]
    }
   ],
   "source": [
    "from local_tests.local_test_nn import TestNN\n",
    "\n",
    "TestNN('test_leaky_relu').test_leaky_relu()"
   ]
  },
  {
   "cell_type": "markdown",
   "metadata": {},
   "source": [
    "### Tanh\n",
    "Tanh also known as hyperbolic tangent is like a shifted version of sigmoid activation function with its range going from -1 to 1. Tanh almost always proves to be better than the sigmoid function since the mean of the activations are closer to zero. Tanh has an effect of centering data that makes learning for the next layer a bit easier. The mathematical form of tanh is given as $$o = \\phi(u) = tanh(u) = \\frac{e^{u} - e^{-u}}{e^{u} + e^{-u}}$$ The derivative of tanh is given as $$o' = \\phi'(u) = 1 - {\\left(\\frac{e^{u} - e^{-u}}{e^{u} + e^{-u}}\\right)}^{2} = 1 - o^{2}$$\n",
    "\n",
    "\n",
    "![tanh](data/images/tanh.png)"
   ]
  },
  {
   "cell_type": "markdown",
   "metadata": {},
   "source": [
    "In the <strong>NN.py</strong> file, complete the following functions:\n",
    "  * <strong>Tanh</strong>: Recall Hint 1"
   ]
  },
  {
   "cell_type": "code",
   "execution_count": 3,
   "metadata": {},
   "outputs": [
    {
     "name": "stdout",
     "output_type": "stream",
     "text": [
      "test_tanh passed!\n"
     ]
    }
   ],
   "source": [
    "from local_tests.local_test_nn import TestNN\n",
    "\n",
    "TestNN('test_tanh').test_tanh()"
   ]
  },
  {
   "cell_type": "markdown",
   "metadata": {},
   "source": [
    "### Sigmoid\n",
    "The sigmoid function is another non-linear function with S-shaped curve. This function is useful in the case of binary classification as its output is between 0 and 1. The mathematical form of the function is $$o = \\phi(u)=\\frac{1}{1+e^{-u}}$$<br> The derivation of the sigmoid function has a nice form and is given as $$o' = \\phi'(u) = \\frac{1}{1+e^{-u}} \\left(1-\\frac{1}{1+e^{-u}}\\right) = \\phi(u)(1-\\phi(u))$$\n",
    "<br><br>\n",
    "\n",
    "<b>Note:</b> We will not be using sigmoid activation function for this assignment. This is included only for the sake of completeness. \n",
    "\n",
    "\n",
    "\n",
    "![sigmoid](data/images/sigmoid.png)"
   ]
  },
  {
   "cell_type": "markdown",
   "metadata": {},
   "source": [
    "## Dropout\n",
    "The dropout layer randomly drops nodes of a specified layer of the neural network so that the information is not propogated to the next layer. Formally, the dropout layer takes a batch of activations and for each activation it sets it to zero with a specified probability $p$. After this, we scale the result by $1/(1-p)$. Usually, $p$ is passed to the neural network as a hyperparameter. Setting $p=0$ means no dropout. \n",
    "\n",
    "Note that the derivative of $\\text{dropout}(u)$ with respect to $u$ has the same shape as $u$. The values of the derivative depend on the random mask.\n",
    "\n",
    "Use [this](https://pytorch.org/docs/stable/generated/torch.nn.Dropout.html) as a reference for your implementation.\n",
    "\n",
    "<span> **Hint: Use np.random.choice() to determine which nodes to drop. The returned dropout mask may be helpful for the backward method.** </span>\n",
    "\n",
    "In the <strong>NN.py</strong> file, complete the following functions:\n",
    "  * <strong>_dropout</strong>: Use the hint above."
   ]
  },
  {
   "cell_type": "code",
   "execution_count": 10,
   "metadata": {},
   "outputs": [
    {
     "name": "stdout",
     "output_type": "stream",
     "text": [
      "test_dropout passed!\n"
     ]
    }
   ],
   "source": [
    "from local_tests.local_test_nn import TestNN\n",
    "TestNN('test_dropout').test_dropout()"
   ]
  },
  {
   "cell_type": "markdown",
   "metadata": {},
   "source": [
    "## Mean Squared Error \n",
    "\n",
    "Mean squared error (MSE) is an estimator that measures the average of the squares of the errors i.e. the average squared difference between the actual and the estimated values. MSE estimates the quality of the learnt hypothesis between the actual and the predicted values. Note that MSE non-negative. If it is closer to zero, the better the learnt function is.\n",
    "\n",
    "### Implementation details\n",
    "For regression problems as in this exercise, we compute the loss as follows:\n",
    "\n",
    "$$MSE = \\frac{1}{2N}\\sum\\limits_{i=1}^{N}\\left(y_{i} -  \\hat{y_{i}}\\right)^{2}$$\n",
    "where $y_{i}$ is the true label and $\\hat{y_{i}}$ is the estimated label. We use a factor of $\\frac{1}{2N}$ instead of $\\frac{1}{N}$ to simply the derivative of loss function. \n",
    "\n",
    "In the <strong>NN.py</strong> file, complete the following functions:\n",
    "  * <strong>nloss</strong>"
   ]
  },
  {
   "cell_type": "code",
   "execution_count": 6,
   "metadata": {},
   "outputs": [
    {
     "name": "stdout",
     "output_type": "stream",
     "text": [
      "test_loss passed!\n"
     ]
    }
   ],
   "source": [
    "from local_tests.local_test_nn import TestNN\n",
    "\n",
    "TestNN('test_loss').test_loss()"
   ]
  },
  {
   "cell_type": "markdown",
   "metadata": {},
   "source": [
    "## Initialization\n",
    "We start by initializing the weights of the fully connected layer using Xavier initialization [Xavier initialization](http://proceedings.mlr.press/v9/glorot10a/glorot10a.pdf) (At a high level, we are using a uniform distribution for weight initialization). This is already implemented for you.\n",
    "\n",
    "## Forward Propagation\n",
    "During training, we pass all the data points through the network layer by layer using forward propagation. The main equations for forward prop have been described below.\n",
    "\\begin{align*}\n",
    "u^{[0]} &=& x\\\\\n",
    "u^{[1]}&=& \\theta^{[1]}u^{[0]}+b^{[1]} \\\\\n",
    "o^{[1]}&=& Dropout(LeakyRelu(u^{[1]})) \\\\\n",
    "u^{[2]}&=& \\theta^{[2]}o^{[1]}+b^{[2]} \\\\\n",
    "\\hat{y}=o^{[2]}&=& Tanh(u^{[2]}) \\\\\n",
    "\\end{align*}\n",
    "\n",
    "\n",
    "Then we get the output and compute the loss \n",
    "$$l = \\frac{1}{2N}\\sum\\limits_{i=1}^{N}\\left(y_{i} -  \\hat{y_{i}}\\right)^{2}$$\n",
    "\n",
    "In the <strong>NN.py</strong> file, complete the following functions:\n",
    "  * <strong>forward</strong>: Be sure to check the value of the *use_dropout* parameter and calculate the output accordingly."
   ]
  },
  {
   "cell_type": "code",
   "execution_count": 13,
   "metadata": {},
   "outputs": [
    {
     "name": "stdout",
     "output_type": "stream",
     "text": [
      "test_forward passed!\n",
      "test_forward_without_dropout passed!\n"
     ]
    }
   ],
   "source": [
    "from local_tests.local_test_nn import TestNN\n",
    "\n",
    "TestNN('test_forward').test_forward()\n",
    "TestNN('test_forward_without_dropout').test_forward_without_dropout()\n"
   ]
  },
  {
   "cell_type": "markdown",
   "metadata": {},
   "source": [
    "## Backward Propagation: Update Weights and Compute Gradients\n",
    "After the forward pass, we do back propagation to update the weights and biases in the direction of the negative gradient of the loss function. \n",
    "\n",
    "### Update Weights\n",
    "So, we update the weights and biases using the following formulas\n",
    "\\begin{equation}\n",
    "\\theta^{[2]} := \\theta^{[2]} - lr \\times \\frac{\\partial l}{\\partial \\theta^{[2]}} \\\\\n",
    "b^{[2]} := b^{[2]} - lr \\times \\frac{\\partial l}{\\partial b^{[2]}} \\\\\n",
    "\\theta^{[1]} := \\theta^{[1]} - lr \\times \\frac{\\partial l}{\\partial \\theta^{[1]}} \\\\\n",
    "b^{[1]} := b^{[1]} - lr \\times \\frac{\\partial l}{\\partial b^{[1]}}\n",
    "\\end{equation}\n",
    "where $lr$ is the learning rate. It decides the step size we want to take in the direction of the negative gradient. \n",
    "\n",
    "In the <strong>NN.py</strong> file, complete the following functions:\n",
    "  * <strong>update_weights</strong>: the following local test will test when *use_momentum* is False"
   ]
  },
  {
   "cell_type": "code",
   "execution_count": 2,
   "metadata": {},
   "outputs": [
    {
     "name": "stdout",
     "output_type": "stream",
     "text": [
      "test_update_weights passed!\n"
     ]
    }
   ],
   "source": [
    "from local_tests.local_test_nn import TestNN\n",
    "\n",
    "TestNN('test_update_weights').test_update_weights()"
   ]
  },
  {
   "cell_type": "markdown",
   "metadata": {},
   "source": [
    "### Update Weights with Momentum [Bonus for Undergrad]\n",
    "\n",
    "Gradient descent does a generally good job of facilitating the convergence of the model's parameters to minimize the loss function. However, the process of doing so can be slow and/or noisy. **Momentum** is a technique used to stabilize this convergence. \n",
    "\n",
    "As a reminder, vanilla gradient descent applies the following update function to the parameters:\n",
    "$$ \n",
    "\\begin{equation}\n",
    "\\theta_{t+1} = \\theta_t - \\alpha \\nabla f(\\theta_t)\n",
    "\\end{equation}\n",
    "$$\n",
    "where $\\theta_t$ represents the parameters at time $t$, $\\alpha$ represents the learning rate, and $f$ is the loss function.\n",
    "\n",
    "Momentum proposes the following tweak to our parameter update function:\n",
    "$$\n",
    "\\begin{align*}\n",
    "z_{t+1} &= \\beta z_t + \\nabla f(\\theta_t) \\\\\n",
    "\\theta_{t+1} &= \\theta_t - \\alpha z_{t+1}\n",
    "\\end{align*}\n",
    "$$\n",
    "where $\\beta \\in [0, 1]$ is the momentum constant and $z_t$ represents the momentum records at time $t$.\n",
    "\n",
    "You can think of momentum as taking our previous changes into consideration. If we've been moving in a certain direction recently, it's likely we should keep moving in that direction. The recurrence relation given shows that we use an exponentially-weighted average of the previous updates for our current update.\n",
    "\n",
    "A useful analogy about momentum from [this great article on Distill](https://distill.pub/2017/momentum/):\n",
    "> Here’s a popular story about momentum: gradient descent is a man walking down a hill. He follows the steepest path downwards; his progress is slow, but steady. Momentum is a heavy ball rolling down the same hill. The added inertia acts both as a smoother and an accelerator, dampening oscillations and causing us to barrel through narrow valleys, small humps and local minima.\n",
    "\n",
    "In the <strong>NN.py</strong> file, complete the following functions:\n",
    "  * <strong>update_weights</strong>: Make to sure to update the weights using momentum\n",
    "\n",
    "**HINT**: z is stored in self.change"
   ]
  },
  {
   "cell_type": "code",
   "execution_count": 4,
   "metadata": {},
   "outputs": [
    {
     "name": "stdout",
     "output_type": "stream",
     "text": [
      "test_update_weights_with_momentum passed!\n"
     ]
    }
   ],
   "source": [
    "from local_tests.local_test_nn import TestNN\n",
    "\n",
    "TestNN('test_update_weights_with_momentum').test_update_weights_with_momentum()"
   ]
  },
  {
   "cell_type": "markdown",
   "metadata": {},
   "source": [
    "### Compute Gradients"
   ]
  },
  {
   "cell_type": "markdown",
   "metadata": {},
   "source": [
    "To compute the terms $\\frac{\\partial l}{\\partial \\theta^{[i]}}$ and $ \\frac{\\partial l}{\\partial b^{[i]}}$ we use chain rule for differentiation as follows:\n",
    "\n",
    "\\begin{align*}\n",
    "\\frac{\\partial l}{\\partial \\theta^{[2]}}&=&\\frac{\\partial l}{\\partial o^{[2]}}\\frac{\\partial o^{[2]}}{\\partial u^{[2]}}\\frac{\\partial u^{[2]}}{\\partial \\theta^{[2]}} \\\\\n",
    "\\frac{\\partial l}{\\partial b^{[2]}}&=&\\frac{\\partial l}{\\partial o^{[2]}}\\frac{\\partial o^{[2]}}{\\partial u^{[2]}}\\frac{\\partial u^{[2]}}{\\partial b^{[2]}}\n",
    "\\end{align*}\n",
    "\n",
    "So, $\\frac{\\partial l}{\\partial o^{[2]}}$ is the differentiation of the loss function at point $o^{[2]}$ <br><br> $\\frac{\\partial o^{[2]}}{\\partial u^{[2]}}$ is the differentiation of the Tanh function at point $u^{[2]}$ <br><br> $\\frac{\\partial u^{[2]}}{\\partial \\theta^{[2]}}$ is equal to $o^{[1]}$ <br><br> $\\frac{\\partial u^{[2]}}{\\partial b^{[2]}}$ is equal to $1$. <br><br>\n",
    "\n",
    "To compute $\\frac{\\partial l}{\\partial \\theta^{[2]}}$, we need $o^{[2]}, u^{[2]} \\& o^{[1]}$ which are calculated during forward propagation. So we need to store these values in cache variables during forward propagation to be able to access them during backward propagation. Similarly for calculating other partial derivatives, we store the values we'll be needing for chain rule in cache. These values are obtained from the forward propagation and used in backward propagation. The cache is implemented as a dictionary here where the keys are the variable names and the values are the variables values.  <br><br>Also, the functional form of the MSE differentiation and Leaky Relu differentiation are given by <br><br>\n",
    "\\begin{align*}\n",
    "\\frac{\\partial l}{\\partial o^{[2]}} &=& \\left(o^{[2]} - y\\right) \\\\\n",
    "\\frac{\\partial l}{\\partial u^{[2]}} &=&  \\frac{\\partial l}{\\partial o^{[2]}} * (1 - (tanh(u^{[2]}))^2)\\\\\n",
    "\\frac{\\partial u^{[2]}}{\\partial \\theta^{[2]}} &=& o^{[1]} \\\\\n",
    "\\frac{\\partial u^{[2]}}{\\partial b^{[2]}} &=& 1\n",
    "\\end{align*}\n",
    "\n",
    "On vectorization, the above equations become:\n",
    "\\begin{align*}\n",
    "\\frac{\\partial l}{\\partial o^{[2]}} &=& \\frac{1}{n}\\left(o^{[2]} - y\\right) \\\\\n",
    "\\frac{\\partial l}{\\partial \\theta^{[2]}} &=&  \\frac{1}{n}\\frac{\\partial l}{\\partial u^{[2]}}o^{[1]} \\\\\n",
    "\\frac{\\partial l}{\\partial b^{[2]}} &=& \\frac{1}{n}\\sum\\frac{\\partial l}{\\partial u^{[2]}}\n",
    "\\end{align*}\n",
    "\n",
    "<span><font color='darkred'>**!!!!! IMPORTANT !!!!! HINT 2: Division by $N$ only needs to occur ONCE for any derivative that requires a division by $N$. Make sure you avoid cascading divisions by $N$ where you might accidentally divide your derivative by $N^2$ or greater.**</font></span>\n",
    "\n",
    "This completes the differentiation of loss function w.r.t to parameters in the second layer. We now move on to the first layer, the equations for which are given as follows: <br><br> \n",
    "\\begin{align*}\n",
    "\\frac{\\partial l}{\\partial \\theta^{[1]}}&=&\\frac{\\partial l}{\\partial o^{[2]}}\\frac{\\partial o^{[2]}}{\\partial u^{[2]}}\\frac{\\partial u^{[2]}}{\\partial o^{[1]}} \\frac{\\partial o^{[1]}}{\\partial u^{[1]}} \\frac{\\partial u^{[1]}}{\\partial \\theta^{[1]}}  \\\\\n",
    "\\frac{\\partial l}{\\partial b^{[1]}}&=&\\frac{\\partial l}{\\partial o^{[2]}}\\frac{\\partial o^{[2]}}{\\partial u^{[2]}}\\frac{\\partial u^{[2]}}{\\partial o^{[1]}} \\frac{\\partial o^{[1]}}{\\partial u^{[1]}} \\frac{\\partial u^{[1]}}{\\partial b^{[1]}}\n",
    "\\end{align*}\n",
    "\n",
    "Where \n",
    "\\begin{align*}\n",
    "\\frac{\\partial u^{[2]}}{\\partial o^{[1]}} &= \\theta^{[2]} \\\\\n",
    "\\frac{\\partial o^{[1]}}{\\partial u^{[1]}} &= \n",
    "\\begin{cases}\n",
    "\\text{dropout\\_mask} \\cdot \\text{scaling\\_factor} \\cdot [1*(o^{[1]} > 0) \\text{ and } \\alpha * (o^{[1]} <= 0)] & \\text{dropout=true} \\\\\n",
    "1*(o^{[1]} > 0) \\text{ and } \\alpha*(o^{[1]} <= 0) & \\text{dropout=false}\n",
    "\\end{cases} \\\\  \n",
    "\\frac{\\partial u^{[1]}}{\\partial \\theta^{[1]}} &= x\\\\\n",
    "\\frac{\\partial u^{[1]}}{\\partial b^{[1]}} &= 1\n",
    "\\end{align*}\n",
    "\n",
    "Note that $\\frac{\\partial o^{[1]}}{\\partial u^{[1]}}$ is the derivative of the compostion of leaky ReLU and dropout at $u^{[1]}$. The dropout mask you stored at forward may be helpful.\n",
    "\n",
    "The above equations outline the forward and backward propagation process for a 2-layer fully connected neural net with leaky Relu as the first activation layer and Tanh has the second one. The same process can be extended to different neural networks with different activation layers. \n",
    "\n",
    "\n",
    "\n",
    "### Code Implementation: \n",
    "\n",
    "\\begin{align*}\n",
    "dLoss\\_o2 &=& \\frac{\\partial l}{\\partial o^{[2]}} &\\implies& dim=(1,331) \\\\ \n",
    "dLoss\\_u2 &=& dLoss\\_o2 \\frac{\\partial o^{[2]}}{\\partial u^{[2]}} &\\implies& dim=(1,331) \\\\\n",
    "dLoss\\_theta2 &=& dLoss\\_u2 \\frac{\\partial u^{[2]}}{\\partial \\theta^{[2]}} &\\implies& dim=(1,15) \\\\\n",
    "dLoss\\_b2 &=& dLoss\\_u2 \\frac{\\partial u^{[2]}}{\\partial b^{[2]}} &\\implies& dim=(1,1) \\\\\n",
    "dLoss\\_o1 &=& dLoss\\_u2 \\frac{\\partial u^{[2]}}{\\partial o^{[1]}} &\\implies& dim=(15,331) \\\\\n",
    "dLoss\\_u1 &=& dLoss\\_o1 \\frac{\\partial o^{[1]}}{\\partial u^{[1]}} &\\implies& dim=(15,331) \\\\\n",
    "dLoss\\_theta1 &=& dLoss\\_u1 \\frac{\\partial u^{[1]}}{\\partial \\theta^{[1]}} &\\implies& dim=(15,10) \\\\\n",
    "dLoss\\_b1 &=& dLoss\\_u1 \\frac{\\partial u^{[1]}}{\\partial b^{[1]}} &\\implies& dim=(15,1)\n",
    "\\end{align*}\n",
    "\n",
    "One common confusion is when to use matrix multiplication versus element-wise multiplication. A good rule of thumb here is that whenever you use matrix multiplication in forward propagation, you'll likely have to use it for the backward step as well. The easiest way to make sure you're on the right track is to check the shapes of the arrays you're working with.\n",
    "\n",
    "<b>Note: </b>Training set has 331 examples.\n",
    "\n",
    "In the <strong>NN.py</strong> file, complete the following functions:\n",
    "  * <strong>compute_gradients</strong>: Be sure to account for the different values of *use_dropout* and calculate accordingly."
   ]
  },
  {
   "cell_type": "code",
   "execution_count": 10,
   "metadata": {},
   "outputs": [
    {
     "name": "stdout",
     "output_type": "stream",
     "text": [
      "test_compute_gradients_withou_dropout passed!\n",
      "(5, 30)\n",
      "test_compute_gradients passed!\n"
     ]
    }
   ],
   "source": [
    "from local_tests.local_test_nn import TestNN\n",
    "\n",
    "TestNN('test_compute_gradients_without_dropout').test_compute_gradients_without_dropout()\n",
    "TestNN('test_compute_gradients').test_compute_gradients()"
   ]
  },
  {
   "cell_type": "markdown",
   "metadata": {
    "id": "NiDi0B5ZMnO9"
   },
   "source": [
    "## 1.1 NN Implementation [65pts; 50pts + 15pts Bonus for Undergrad] <span style=\"color:blue\">**[P]**</span> \n",
    "\n",
    "In this section, you will implement a two layer fully connected neural network. You will also experiment with different activation functions and optimization techniques. We provide two activation functions here - Leaky Relu and Tanh. You will implement a neural network that would have Leaky Relu activation followed by a Tanh layer. \n",
    "\n",
    "You'll also implement Gradient Descent (GD) and Batch Gradient Descent (BGD) algorithms for training these neural nets. **GD is mandatory for all. BGD is bonus for undergraduate students but mandatory for graduate students.** \n",
    "\n",
    "In the <strong>NN.py</strong> file, complete the following functions:\n",
    "  * <strong>Leaky Relu</strong>: Recall Hint 1\n",
    "  * <strong>Tanh</strong>: Recall Hint 1\n",
    "  * <strong>nloss</strong>\n",
    "  * <strong>_dropout</strong>\n",
    "  * <strong>forward</strong>\n",
    "  * <strong>compute_gradients</strong>\n",
    "  * <strong>update_weights</strong>\n",
    "  * <strong>backward</strong>: Recall Hint 2, if you still have issues passing the autograder make sure to address Hint 1 as well.\n",
    "  * <strong>gradient_descent</strong>\n",
    "  * <strong>batch_gradient_descent</strong>:<span style=\"color:darkred\"> **Mandatory for graduate students, bonus for undergraduate students.**</span> Please batch your data in a wraparound manner. For example, given a dataset of 9 numbers, [1, 2, 3, 4, 5, 6, 7, 8, 9], and a batch size of 6, the first iteration batch will be [1, 2, 3, 4, 5, 6], the second iteration batch will be [7, 8, 9, 1, 2, 3], the third iteration batch will be [4, 5, 6, 7, 8, 9], etc... \n",
    "  \n",
    "We'll train this neural net on sklearn's diabetes dataset."
   ]
  },
  {
   "cell_type": "markdown",
   "metadata": {
    "id": "-99pSAPJdPzh"
   },
   "source": [
    "### 1.1.1 Local Test: Helper Functions [No Points]\n",
    "You may test your implementation of the helper functions contained in **NN.py** in the cell below. See [Using the Local Tests](#using_local_tests) for more details."
   ]
  },
  {
   "cell_type": "code",
   "execution_count": 12,
   "metadata": {},
   "outputs": [
    {
     "name": "stdout",
     "output_type": "stream",
     "text": [
      "test_leaky_relu passed!\n",
      "test_tanh passed!\n",
      "test_dropout passed!\n",
      "test_loss passed!\n",
      "test_forward passed!\n",
      "test_forward_without_dropout passed!\n",
      "test_update_weights passed!\n",
      "test_update_weights_with_momentum passed!\n",
      "test_compute_gradients_withou_dropout passed!\n",
      "test_compute_gradients passed!\n"
     ]
    }
   ],
   "source": [
    "###############################\n",
    "### DO NOT CHANGE THIS CELL ###\n",
    "###############################\n",
    "from local_tests.local_test_nn import TestNN\n",
    "\n",
    "TestNN('test_leaky_relu').test_leaky_relu()\n",
    "TestNN('test_tanh').test_tanh()\n",
    "TestNN('test_dropout').test_dropout()\n",
    "TestNN('test_loss').test_loss()\n",
    "TestNN('test_forward').test_forward()\n",
    "TestNN('test_forward_without_dropout').test_forward_without_dropout()\n",
    "TestNN('test_update_weights').test_update_weights()\n",
    "TestNN('test_update_weights_with_momentum').test_update_weights_with_momentum()\n",
    "TestNN('test_compute_gradients_without_dropout').test_compute_gradients_without_dropout()\n",
    "TestNN('test_compute_gradients').test_compute_gradients()"
   ]
  },
  {
   "cell_type": "markdown",
   "metadata": {},
   "source": [
    "### 1.1.2 Local Test: Gradient Descent [No Points]\n",
    "You may test your implementation of the GD function contained in **NN.py** in the cell below. See [Using the Local Tests](#using_local_tests) for more details."
   ]
  },
  {
   "cell_type": "code",
   "execution_count": 32,
   "metadata": {},
   "outputs": [
    {
     "name": "stdout",
     "output_type": "stream",
     "text": [
      "\n",
      "Your GD losses works within the expected range: True\n"
     ]
    }
   ],
   "source": [
    "###############################\n",
    "### DO NOT CHANGE THIS CELL ###\n",
    "###############################\n",
    "\n",
    "from NN import dlnet\n",
    "from local_tests.nn_test import NN_Test\n",
    "\n",
    "np.random.seed(0)\n",
    "\n",
    "test_nn = NN_Test()\n",
    "nn = dlnet(test_nn.x_train, test_nn.y_train, lr=0.01, batch_size=6, use_dropout=False)\n",
    "\n",
    "# Local test gradient descent\n",
    "nn.gradient_descent(test_nn.x_train, test_nn.y_train, iter=3, local_test=True)       \n",
    "\n",
    "gd_loss_test = np.allclose(np.array(nn.loss), test_nn.gd_loss, rtol=1e-2)\n",
    "print('\\nYour GD losses works within the expected range:', gd_loss_test)"
   ]
  },
  {
   "cell_type": "markdown",
   "metadata": {
    "id": "l4B3KRmadPzh"
   },
   "source": [
    "### 1.1.3 Local Test: Batch Gradient Descent [No Points]\n",
    "You may test your implementation of the BGD function contained in **NN.py** in the cell below. See [Using the Local Tests](#using_local_tests) for more details."
   ]
  },
  {
   "cell_type": "code",
   "execution_count": 31,
   "metadata": {
    "id": "A6NPnjiDdPzi",
    "outputId": "f70e8ae7-54e1-450b-ceae-ad914a708b14"
   },
   "outputs": [
    {
     "name": "stdout",
     "output_type": "stream",
     "text": [
      "\n",
      "y_train input: [[1. 2. 3. 4. 5. 6. 7. 8. 9.]]\n",
      "batch_y at iteration 0:  [[1. 2. 3. 4. 5. 6.]]\n",
      "batch_y at iteration 1:  [[7. 8. 9. 1. 2. 3.]]\n",
      "batch_y at iteration 2:  [[4. 5. 6. 7. 8. 9.]]\n",
      "\n",
      "Your BGD losses works within the expected range: True\n",
      "Your batch_y works within the expected range: True\n"
     ]
    }
   ],
   "source": [
    "###############################\n",
    "### DO NOT CHANGE THIS CELL ###\n",
    "###############################\n",
    "\n",
    "from NN import dlnet\n",
    "from local_tests.nn_test import NN_Test\n",
    "\n",
    "np.random.seed(0)\n",
    "\n",
    "test_nn = NN_Test()\n",
    "nn = dlnet(test_nn.x_train, test_nn.y_train, lr=0.01, batch_size=6, use_dropout=False)\n",
    "\n",
    "# Local test batch gradient descent\n",
    "nn.batch_gradient_descent(test_nn.x_train, test_nn.y_train, iter=3, local_test=True)       \n",
    "\n",
    "batch_str = 'batch_y at iteration %i: '\n",
    "print('\\ny_train input:', test_nn.y_train)\n",
    "[print(batch_str %(i), batch_y) for i, batch_y in enumerate(nn.batch_y)]\n",
    "\n",
    "bgd_loss_test = np.allclose(np.array(nn.loss), test_nn.bgd_loss, rtol=1e-2)\n",
    "print('\\nYour BGD losses works within the expected range:', bgd_loss_test)\n",
    "batch_y_test = np.allclose(np.array(nn.batch_y), test_nn.batch_y, rtol=1e-2)\n",
    "print('Your batch_y works within the expected range:', batch_y_test)"
   ]
  },
  {
   "cell_type": "markdown",
   "metadata": {},
   "source": [
    "### 1.1.4 Local Test: Gradient Descent with Momentum [No Points - Bonus for Undergrad]"
   ]
  },
  {
   "cell_type": "markdown",
   "metadata": {},
   "source": [
    "You may test your implementation of the GD function with momentum contained in **NN.py** in the cell below. See [Using the Local Tests](#using_local_tests) for more details."
   ]
  },
  {
   "cell_type": "code",
   "execution_count": 33,
   "metadata": {},
   "outputs": [
    {
     "name": "stdout",
     "output_type": "stream",
     "text": [
      "\n",
      "Your GD losses works within the expected range: False\n"
     ]
    }
   ],
   "source": [
    "###############################\n",
    "### DO NOT CHANGE THIS CELL ###\n",
    "###############################\n",
    "\n",
    "from NN import dlnet\n",
    "from local_tests.nn_test import NN_Test\n",
    "\n",
    "np.random.seed(0)\n",
    "\n",
    "test_nn = NN_Test()\n",
    "nn = dlnet(test_nn.x_train, test_nn.y_train)\n",
    "\n",
    "# Local test batch gradient descent\n",
    "nn.gradient_descent(test_nn.x_train, test_nn.y_train, iter=3, use_momentum=True, local_test=True)\n",
    "gd_loss_test_with_momentum = np.allclose(np.array(nn.loss), test_nn.gd_loss_with_momentum, rtol=1e-2)\n",
    "print('\\nYour GD losses works within the expected range:', gd_loss_test_with_momentum)"
   ]
  },
  {
   "cell_type": "markdown",
   "metadata": {
    "id": "B79i8H2TMnPA"
   },
   "source": [
    "## 1.2 Loss plot and MSE value for NN with Gradient Descent [5pts] <span style=\"color:green\">**[W]**</span>\n",
    "Train your neural net implementation with gradient descent and print out the loss at every 1000th iteration (starting at iteration 0). The following cells will plot the loss vs epoch graph and calculate the final test MSE. "
   ]
  },
  {
   "cell_type": "code",
   "execution_count": 34,
   "metadata": {
    "id": "4nJudgS-MnPB"
   },
   "outputs": [
    {
     "data": {
      "image/png": "[encoded data removed]",
      "text/plain": [
       "<Figure size 640x480 with 1 Axes>"
      ]
     },
     "metadata": {},
     "output_type": "display_data"
    }
   ],
   "source": [
    "###############################\n",
    "### DO NOT CHANGE THIS CELL ###\n",
    "###############################\n",
    "\n",
    "from NN import dlnet\n",
    "\n",
    "dataset = load_diabetes() # load the dataset\n",
    "x, y = dataset.data, dataset.target\n",
    "y = y.reshape(-1,1)\n",
    "perm = np.random.RandomState(seed=3).permutation(x.shape[0])[:500]\n",
    "x = x[perm]\n",
    "y = y[perm]\n",
    "\n",
    "\n",
    "\n",
    "x_train, x_test, y_train, y_test = train_test_split(x, y, random_state=1) #split data\n",
    "\n",
    "\n",
    "x_scale = MinMaxScaler()\n",
    "x_train = x_scale.fit_transform(x_train) #normalize data/\n",
    "x_test = x_scale.transform(x_test) \n",
    "\n",
    "y_scale = MinMaxScaler()\n",
    "y_train = y_scale.fit_transform(y_train)\n",
    "y_test = y_scale.transform(y_test)\n",
    "\n",
    "x_train, x_test, y_train, y_test = x_train.T, x_test.T, y_train.reshape(1,-1), y_test #condition data\n",
    "\n",
    "nn = dlnet(x_train,y_train,lr=0.01,use_dropout=True) # initalize neural net class\n",
    "nn.gradient_descent(x_train, y_train, iter = 60000) #train\n",
    "\n",
    "# create figure\n",
    "fig = plt.plot(np.array(nn.loss).squeeze())\n",
    "plt.title(f'Training: {nn.neural_net_type}')\n",
    "plt.xlabel(\"Epoch\")\n",
    "plt.ylabel(\"Loss\")\n",
    "plt.show()"
   ]
  },
  {
   "cell_type": "code",
   "execution_count": 35,
   "metadata": {
    "id": "OZLnsEBrMnPB",
    "outputId": "204445c4-5ae6-4a80-e900-5d451cc3c10d"
   },
   "outputs": [
    {
     "name": "stdout",
     "output_type": "stream",
     "text": [
      "Mean Squared Error (MSE) 0.039990395966738194\n"
     ]
    }
   ],
   "source": [
    "###############################\n",
    "### DO NOT CHANGE THIS CELL ###\n",
    "###############################\n",
    "\n",
    "y_predicted = nn.predict(x_test) # predict\n",
    "y_test = y_test.reshape(1,-1)\n",
    "print(\"Mean Squared Error (MSE)\", mean_squared_error(y_test, y_predicted))\n"
   ]
  },
  {
   "cell_type": "markdown",
   "metadata": {
    "id": "_4udQLmkMnPC"
   },
   "source": [
    "## 1.3 Loss plot and MSE value for NN with BGD [5pts Bonus for Undergrad] <span style=\"color:green\">**[W]**</span>\n",
    "Train your neural net implementation with batch gradient descent and print out the loss at every 1000th iteration (starting at iteration 0). The following cells will plot the loss vs epoch graph and calculate the final test MSE. "
   ]
  },
  {
   "cell_type": "code",
   "execution_count": 36,
   "metadata": {
    "id": "OVTSILdPMnPC",
    "outputId": "6416c1dc-0aad-4f65-f959-410ba0be5d45"
   },
   "outputs": [
    {
     "data": {
      "image/png": "[encoded data removed]",
      "text/plain": [
       "<Figure size 640x480 with 1 Axes>"
      ]
     },
     "metadata": {},
     "output_type": "display_data"
    }
   ],
   "source": [
    "###############################\n",
    "### DO NOT CHANGE THIS CELL ###\n",
    "###############################\n",
    "\n",
    "from NN import dlnet\n",
    "\n",
    "dataset = load_diabetes() # load the dataset\n",
    "x, y = dataset.data, dataset.target\n",
    "y = y.reshape(-1,1)\n",
    "perm = np.random.RandomState(seed=3).permutation(x.shape[0])[:500]\n",
    "x = x[perm]\n",
    "y = y[perm]\n",
    "\n",
    "x_train, x_test, y_train, y_test = train_test_split(x, y, random_state=1) #split data\n",
    "\n",
    "x_scale = MinMaxScaler()\n",
    "x_train = x_scale.fit_transform(x_train) #normalize data\n",
    "x_test = x_scale.transform(x_test) \n",
    "\n",
    "y_scale = MinMaxScaler()\n",
    "y_train = y_scale.fit_transform(y_train)\n",
    "y_test = y_scale.transform(y_test)\n",
    "\n",
    "x_train, x_test, y_train, y_test = x_train.T, x_test.T, y_train.reshape(1,-1), y_test #condition data\n",
    "\n",
    "nn = dlnet(x_train,y_train,lr=0.01,use_dropout=True) # initalize neural net class\n",
    "nn.batch_gradient_descent(x_train, y_train, iter = 60000) #train\n",
    "\n",
    "\n",
    "# create figure\n",
    "fig = plt.plot(np.array(nn.loss).squeeze())\n",
    "plt.title(f'Training: {nn.neural_net_type}')\n",
    "plt.xlabel(\"Epoch\")\n",
    "plt.ylabel(\"Loss\")\n",
    "plt.show()"
   ]
  },
  {
   "cell_type": "code",
   "execution_count": 37,
   "metadata": {
    "id": "_ERh21q9MnPD",
    "outputId": "35d527c7-4f63-4c35-bd6b-c510c85aef0a"
   },
   "outputs": [
    {
     "name": "stdout",
     "output_type": "stream",
     "text": [
      "Mean Squared Error (MSE) 0.03985681632245011\n"
     ]
    }
   ],
   "source": [
    "###############################\n",
    "### DO NOT CHANGE THIS CELL ###\n",
    "###############################\n",
    "\n",
    "y_predicted = nn.predict(x_test) # predict \n",
    "y_test = y_test.reshape(1,-1)\n",
    "print(\"Mean Squared Error (MSE)\", mean_squared_error(y_test, y_predicted))\n"
   ]
  },
  {
   "cell_type": "markdown",
   "metadata": {},
   "source": [
    "## 1.4 Loss plot and MSE value for NN with Gradient Descent with Momentum [5pts Bonus for Undergrad] <span style=\"color:green\">**[W]**</span>\n",
    "Train your neural net implementation with gradient descent with momentum and print out the loss at every 1000th iteration (starting at iteration 0). The following cells will plot the loss vs epoch graph and calculate the final test MSE. "
   ]
  },
  {
   "cell_type": "code",
   "execution_count": 38,
   "metadata": {},
   "outputs": [
    {
     "data": {
      "image/png": "[encoded data removed]",
      "text/plain": [
       "<Figure size 640x480 with 1 Axes>"
      ]
     },
     "metadata": {},
     "output_type": "display_data"
    }
   ],
   "source": [
    "###############################\n",
    "### DO NOT CHANGE THIS CELL ###\n",
    "###############################\n",
    "\n",
    "from NN import dlnet\n",
    "\n",
    "dataset = load_diabetes() # load the dataset\n",
    "x, y = dataset.data, dataset.target\n",
    "y = y.reshape(-1,1)\n",
    "perm = np.random.RandomState(seed=3).permutation(x.shape[0])[:500]\n",
    "x = x[perm]\n",
    "y = y[perm]\n",
    "\n",
    "\n",
    "\n",
    "x_train, x_test, y_train, y_test = train_test_split(x, y, random_state=1) #split data\n",
    "\n",
    "\n",
    "x_scale = MinMaxScaler()\n",
    "x_train = x_scale.fit_transform(x_train) #normalize data\n",
    "x_test = x_scale.transform(x_test) \n",
    "\n",
    "y_scale = MinMaxScaler()\n",
    "y_train = y_scale.fit_transform(y_train)\n",
    "y_test = y_scale.transform(y_test)\n",
    "\n",
    "x_train, x_test, y_train, y_test = x_train.T, x_test.T, y_train.reshape(1,-1), y_test #condition data\n",
    "\n",
    "nn = dlnet(x_train,y_train,lr=0.01,use_dropout=True) # initalize neural net class\n",
    "nn.gradient_descent(x_train, y_train, iter = 60000, use_momentum=True) #train\n",
    "\n",
    "# create figure\n",
    "fig = plt.plot(np.array(nn.loss).squeeze())\n",
    "plt.title(f'Training: {nn.neural_net_type}')\n",
    "plt.xlabel(\"Epoch\")\n",
    "plt.ylabel(\"Loss\")\n",
    "plt.show()\n"
   ]
  },
  {
   "cell_type": "code",
   "execution_count": 39,
   "metadata": {},
   "outputs": [
    {
     "name": "stdout",
     "output_type": "stream",
     "text": [
      "Mean Squared Error (MSE) 0.03574491460289309\n"
     ]
    }
   ],
   "source": [
    "###############################\n",
    "### DO NOT CHANGE THIS CELL ###\n",
    "###############################\n",
    "\n",
    "y_predicted = nn.predict(x_test) # predict\n",
    "y_test = y_test.reshape(1,-1)\n",
    "print(\"Mean Squared Error (MSE)\", mean_squared_error(y_test, y_predicted))"
   ]
  },
  {
   "cell_type": "markdown",
   "metadata": {
    "id": "ayv_tqnyxMb0"
   },
   "source": [
    "# 2: Image Classification based on Convolutional Neural Networks [20pts; 17pts Bonus for Undergrad + 3pts Bonus for all] <span style=\"color:blue\">**[P]**</span><span style=\"color:green\">**[W]**</span>\n"
   ]
  },
  {
   "cell_type": "markdown",
   "metadata": {
    "id": "NAcYa40pm86P"
   },
   "source": [
    "## 2.1 Image Classification using Keras and CNN\n",
    "Keras is a deep learning API written in Python, running on top of the machine learning platform TensorFlow. It was developed with a focus on enabling fast experimentation. Being able to go from idea to result as fast as possible is key to doing good research. In this part, you will build a convolutional neural network based on TF/Keras to solve the image classification task for the CIFAR-10 dataset. If you haven't installed TensorFlow, you can install the package by **pip** command or train your model by uploading HW4 notebook to [Colab](https://colab.research.google.com/) directly. Colab contains all packages you need for this section.  \n",
    "\n",
    "Hint1: [First contact with Keras](https://keras.io/about/)\n",
    "\n",
    "Hint2: [How to Install Keras](https://www.pyimagesearch.com/2016/07/18/installing-keras-for-deep-learning/)\n",
    "\n",
    "Hint3：[CS231n Tutorial (Layers used to build ConvNets) ](https://cs231n.github.io/convolutional-networks/)"
   ]
  },
  {
   "cell_type": "markdown",
   "metadata": {
    "id": "WWSeZNmCm86P"
   },
   "source": [
    "### Environment Setup"
   ]
  },
  {
   "cell_type": "code",
   "execution_count": null,
   "metadata": {
    "id": "X2Cwef24xgtT"
   },
   "outputs": [],
   "source": [
    "from __future__ import print_function\n",
    "import tensorflow as tf\n",
    "from keras.datasets import cifar10\n",
    "from sklearn.model_selection import train_test_split\n",
    "from tensorflow.keras.models import Sequential\n",
    "from tensorflow.keras.layers import Conv2D, MaxPooling2D, Flatten, Dense, Activation, Dropout\n",
    "from tensorflow.keras.layers import LeakyReLU\n",
    "from tensorflow.keras.layers import BatchNormalization\n",
    "from sklearn.utils import shuffle\n",
    "import numpy as np\n",
    "import matplotlib.pyplot as plt"
   ]
  },
  {
   "cell_type": "markdown",
   "metadata": {
    "id": "D5wmr3mt2yOu"
   },
   "source": [
    "### 2.1.1 Load CIFAR-10 Dataset and Data Augmentation [5pts Bonus for Undergrad] <span style=\"color:blue\">**[P]**</span> "
   ]
  },
  {
   "cell_type": "markdown",
   "metadata": {
    "id": "PxDuP6Yq2yOv"
   },
   "source": [
    "We use [CIFAR-10](https://www.cs.toronto.edu/~kriz/cifar.html) dataset to train our model. This is a dataset of 60,000 32x32 colour images in 10 classes, with 6,000 images per class. There are 50,000 training images and 10,000 test images. We provide code for you to download CIFAR-10 dataset below.  \n",
    "\n",
    "#### Data Augmentation [5pts]\n",
    "\n",
    "Data augmentation is a technique to increase the diversity of your training set by applying random (but realistic) transformations, such as image rotation. If the dataset in a machine learning model is rich and sufficient, the model performs better and more accurately. You will learn how to apply data augmentation using the Keras preprocessing layers\n",
    "\n",
    "\n",
    "In the <strong>image_preprocessing.py</strong> file, complete the following functions to understand the common practices used for preprocessing the image data:\n",
    "  * <strong>data_preprocessing</strong>\n",
    "  * <strong>data_augmentation</strong>\n",
    "\n",
    "    * HORIZONTAL AND VERTICAL FLIP: We flip the images horizontally  or vertically based on the mode attribute which can be horizontal, vertical or both\n",
    "\n",
    "    * RANDOM ROTATION: We apply random rotations to each image, filling empty space according to fill_mode. The fill mode can be nearest (using nearest pixels to determine the fill value), reflect, constant or wrap.\n",
    "\n",
    "    * RANDOM_CROP: We randomly crop the image to a given size.\n",
    "\n",
    "It would definitely be useful to explore the [Tensorflow documentation](https://www.tensorflow.org/api_docs/python/tf/image) to see the different image processing techniques we can use for our computer vision projects."
   ]
  },
  {
   "cell_type": "code",
   "execution_count": null,
   "metadata": {
    "colab": {
     "base_uri": "https://localhost:8080/"
    },
    "id": "Zv8fRYkp2yOv",
    "outputId": "b943ca12-7c2f-470b-fc54-d03c4d25910d"
   },
   "outputs": [],
   "source": [
    "###############################\n",
    "### DO NOT CHANGE THIS CELL ###\n",
    "###############################\n",
    "from image_preprocessing import data_augmentation,data_preprocessing\n",
    "# split data between train and test sets\n",
    "\n",
    "(x_train, y_train),(x_test, y_test)=cifar10.load_data()\n",
    "# input image dimensions\n",
    "img_rows, img_cols = 32, 32\n",
    "number_channels = 3\n",
    "#set num of classes\n",
    "num_classes = 10\n",
    "\n",
    "#create augmented data\n",
    "augmented_x=np.zeros((10000,32,32,3))\n",
    "augmented_y=np.zeros((10000,1),dtype=y_train.dtype)\n",
    "y=y_train.squeeze()\n",
    "i=0\n",
    "for c in range(10):\n",
    "    augmented_x[i:i+1000,:,:,:]=x_train[y==c][:1000]\n",
    "    augmented_y[i:i+1000,:]=c\n",
    "    i=i+1000  \n",
    "\n",
    "# Create a tf.data pipeline of train images (and their labels)\n",
    "train_dataset = tf.data.Dataset.from_tensor_slices((x_train, y_train))\n",
    "train_dataset = train_dataset.map(lambda x, y: (data_preprocessing()(x), y))\n",
    "aug_dataset=tf.data.Dataset.from_tensor_slices((augmented_x, augmented_y))\n",
    "aug_dataset=aug_dataset.shuffle(5000)\n",
    "aug_dataset = aug_dataset.map(lambda x, y: (data_preprocessing()(x), y))\n",
    "aug_dataset = aug_dataset.map(lambda x, y: (data_augmentation()(x), y))\n",
    "train_dataset=train_dataset.concatenate(aug_dataset)\n",
    "\n",
    "# Create a tf.data pipeline of test images (and their labels)\n",
    "test_dataset = tf.data.Dataset.from_tensor_slices((x_test, y_test))\n",
    "test_dataset = test_dataset.map(lambda x, y: (data_preprocessing()(x), y))\n",
    "\n",
    "x_train, y_train = zip(*train_dataset)\n",
    "x_train = np.array(x_train)\n",
    "y_train = np.array(y_train)\n",
    "x_test, y_test = zip(*test_dataset)\n",
    "x_test = np.array(x_test)\n",
    "y_test = np.array(y_test)\n",
    "\n",
    "\n",
    "if tf.keras.backend.image_data_format() == 'channels_first':\n",
    "    x_train = x_train.reshape(x_train.shape[0], number_channels, img_rows, img_cols)\n",
    "    x_test = x_test.reshape(x_test.shape[0], number_channels, img_rows, img_cols)\n",
    "    input_shape = (number_channels, img_rows, img_cols)\n",
    "else:\n",
    "    x_train = x_train.reshape(x_train.shape[0], img_rows, img_cols, number_channels)\n",
    "    x_test = x_test.reshape(x_test.shape[0], img_rows, img_cols, number_channels)\n",
    "    input_shape = (img_rows, img_cols, number_channels)\n",
    "\n",
    "print('x_train shape:', x_train.shape)\n",
    "print('x_test shape:', x_test.shape)\n",
    "print(x_train.shape[0], 'train samples')\n",
    "print(x_test.shape[0], 'test samples')\n",
    "\n",
    "class_names=['airplane', 'automobile', 'bird', 'cat', 'deer', 'dog', 'frog', 'horse', 'ship', 'truck']\n",
    "# convert class vectors to binary class matrices\n",
    "y_train = tf.keras.utils.to_categorical(y_train, num_classes)\n",
    "y_test = tf.keras.utils.to_categorical(y_test, num_classes)"
   ]
  },
  {
   "cell_type": "markdown",
   "metadata": {
    "id": "IropaXmi2yOy"
   },
   "source": [
    "### 2.1.2 Load some sample images from CIFAR-10 [Setup - No points]"
   ]
  },
  {
   "cell_type": "code",
   "execution_count": null,
   "metadata": {
    "colab": {
     "base_uri": "https://localhost:8080/",
     "height": 593
    },
    "id": "NaUQz7x52yOy",
    "outputId": "efcf12cc-5cc1-4c46-e779-d9b15165a678"
   },
   "outputs": [],
   "source": [
    "###############################\n",
    "### DO NOT CHANGE THIS CELL ###\n",
    "###############################\n",
    "\n",
    "# Show some images from CIFAR-10\n",
    "\n",
    "fig = plt.figure(figsize=(10, 10))\n",
    "for i in range(9):\n",
    "    random_index = np.random.randint(0, len(y_train))\n",
    "    ax = fig.add_subplot(3, 3, i+1)\n",
    "    ax.imshow(x_train[random_index, :])\n",
    "plt.show()"
   ]
  },
  {
   "cell_type": "markdown",
   "metadata": {
    "id": "uJEjYyism86Y"
   },
   "source": [
    "As you can see from above, the CIFAR-10 dataset contains different types of objects. The images have been size-normalized and objects remain centered in fixed-size images."
   ]
  },
  {
   "cell_type": "markdown",
   "metadata": {
    "id": "deWtvYFKm86Z"
   },
   "source": [
    "### 2.1.3 Build convolutional neural network model [2pts Bonus for Undergrad] <span style=\"color:green\">**[W]**</span>"
   ]
  },
  {
   "cell_type": "markdown",
   "metadata": {
    "id": "g8ioOgl1m86Z"
   },
   "source": [
    "In this part, you need to build a convolutional neural network as described below. The architecture of the model is outlined below.\n",
    "\n",
    "In the <strong>cnn.py</strong> file, complete the following functions:\n",
    "  * <strong> \\__init\\__</strong>: See Defining Variables section\n",
    "  * <strong>create_net</strong>: See Defining Model section\n",
    "  * <strong>compile_net</strong>: See Compiling Model section\n",
    "\n",
    "\n",
    "\n",
    " **[INPUT - CONV - CONV - MAXPOOL - DROPOUT - CONV - CONV - MAXPOOL - DROPOUT - FC1 - DROPOUT - FC2 - DROPOUT - FC3]**\n",
    "\n",
    "> INPUT: [$32\\times32\\times3$] will hold the raw pixel values of the image, in this case, an image of width 32, height 32. This layer should give  8 filters and have appropriate padding to maintain shape.\n",
    "\n",
    "> CONV: Conv. layer will compute the output of neurons that are connected to local regions in the input, each computing a dot product between their weights and a small region they are connected to the input volume. We decide to set the kernel_size $3\\times3$ for both Conv. layers. For example, the output of the Conv. layer may look like $[32\\times32\\times32]$ if we use 32 filters. Again, we use padding to maintain shape.\n",
    "\n",
    "> MAXPOOL: MAXPOOL layer will perform a downsampling operation along the spatial dimensions (width, height). With pool size of $2\\times2$, resulting shape takes form $16\\times16$.\n",
    "\n",
    "> DROPOUT: DROPOUT layer with the dropout rate of 0.30 to prevent overfitting.\n",
    "\n",
    "> CONV: Additonal Conv. layer takes outputs from above layers and applies more filters. The Conv. layer may look like $[16\\times16\\times32]$. We set the kernel_size $3\\times3$ and use padding to maintain shape for both Conv. layers.\n",
    "\n",
    "> CONV: Additonal Conv. layer takes outputs from above layers and applies more filters. The Conv. layer may look like $[16\\times16\\times64]$.\n",
    "\n",
    "> MAXPOOL: MAXPOOL layer will perform a downsampling operation along the spatial dimensions (width, height).\n",
    "\n",
    "> DROPOUT: Dropout layer with the dropout rate of 0.30 to prevent overfitting.\n",
    "\n",
    "> FC1: Dense layer which takes output from above layers, and has 256 neurons. Flatten() operations may be useful.\n",
    "\n",
    "> DROPOUT: Dropout layer with the dropout rate of 0.5 to prevent overfitting.\n",
    "\n",
    "> FC2： Dense layer which takes output from above layers, and has 128 neurons. \n",
    "\n",
    "> DROPOUT: Dropout layer with the dropout rate of 0.5 to prevent overfitting.\n",
    "\n",
    "> FC3: Dense layer with 10 neurons, and Softmax activation, is the final layer. The dimension of the output space is the number of classes.\n",
    "\n",
    "**Activation function**: Use LeakyReLU with negative_slope 0.1 as the activation function for Conv. layers and Dense layers unless otherwise indicated to build you model architecture\n",
    "\n",
    "\n",
    "Note that while this is a suggested model design, you may use other architectures and experiment with different layers for better results.\n",
    "\n",
    "Use the following keras links to reference crucial layers of the model in keras API:\n",
    "\n",
    "- Conv2d: https://keras.io/api/layers/convolution_layers/convolution2d/\n",
    "- Dense: https://keras.io/api/layers/core_layers/dense/\n",
    "- Flatten: https://keras.io/api/layers/reshaping_layers/flatten/\n",
    "- MaxPool: https://keras.io/api/layers/pooling_layers/max_pooling2d/\n",
    "- Dropout: https://keras.io/api/layers/regularization_layers/dropout/\n",
    "- LeakyReLU: https://keras.io/api/layers/activation_layers/leaky_relu/\n",
    "\n",
    "And explore the keras layers API if you would like to experiment with additional layers: https://keras.io/api/layers/\n"
   ]
  },
  {
   "cell_type": "code",
   "execution_count": null,
   "metadata": {
    "colab": {
     "base_uri": "https://localhost:8080/",
     "height": 612
    },
    "id": "L6fLE8Wpm86Z",
    "outputId": "ccbd55e9-aba5-4337-9b72-028085f0967b"
   },
   "outputs": [],
   "source": [
    "###############################\n",
    "### DO NOT CHANGE THIS CELL ###\n",
    "###############################\n",
    "\n",
    "# Show the architecture of the model\n",
    "achi=plt.imread('./data/images/Architecture.png')\n",
    "fig = plt.figure(figsize=(10,10))\n",
    "plt.imshow(achi)"
   ]
  },
  {
   "cell_type": "markdown",
   "metadata": {
    "id": "6FagsUubm86c"
   },
   "source": [
    "#### Defining Variables [No Points]"
   ]
  },
  {
   "cell_type": "markdown",
   "metadata": {
    "id": "xoh4S7TnMnPI"
   },
   "source": [
    "You now need to set training variables in the `__init__()` function in <strong>cnn.py</strong>. Once you have defined variables you may use the cell below to see them.\n",
    "\n",
    "- Recommended Batch Sizes fall in the range 32-512 (use powers of 2)\n",
    "\n",
    "- Recommended Epoch Counts fall in the range 5-20\n",
    "\n",
    "- Recommended Learning Rates fall in the range .0001-.01"
   ]
  },
  {
   "cell_type": "code",
   "execution_count": null,
   "metadata": {
    "colab": {
     "base_uri": "https://localhost:8080/"
    },
    "id": "RZp2AB_r2yO0",
    "outputId": "2dd735de-837e-441a-c97f-555237b7740a"
   },
   "outputs": [],
   "source": [
    "###############################\n",
    "### DO NOT CHANGE THIS CELL ###\n",
    "###############################\n",
    "\n",
    "# You can adjust parameters to train your model in __init__() in cnn.py\n",
    "\n",
    "from cnn import CNN\n",
    "\n",
    "net = CNN()\n",
    "batch_size, epochs, init_lr = net.get_vars()\n",
    "print(f'Batch Size\\t: {batch_size} \\nEpochs\\t\\t: {epochs} \\nLearning Rate\\t: {init_lr} \\n')\n"
   ]
  },
  {
   "cell_type": "markdown",
   "metadata": {
    "id": "5F5PWx17m86g"
   },
   "source": [
    "#### Defining model [2pts Bonus for Undergrad]<span style=\"color:green\">**[W]**</span> "
   ]
  },
  {
   "cell_type": "markdown",
   "metadata": {
    "id": "s509lYZCMnPJ"
   },
   "source": [
    "You now need to complete the `create_net()` function in <strong>cnn.py</strong> to define your model structure. Once you have defined a model structure you may use the cell below to examine your architecture.\n",
    "\n",
    "Your model is required to have at least 2 convolutional layers and at least 2 dense layers. Ensuring that these requirements are met will earn you 2pts."
   ]
  },
  {
   "cell_type": "code",
   "execution_count": null,
   "metadata": {
    "colab": {
     "base_uri": "https://localhost:8080/"
    },
    "id": "tKpTMi2rm86i",
    "outputId": "2014de42-de96-48da-df1e-697ea5d7b634",
    "scrolled": false
   },
   "outputs": [],
   "source": [
    "###############################\n",
    "### DO NOT CHANGE THIS CELL ###\n",
    "###############################\n",
    "\n",
    "# model.summary() gives you details of your architecture.\n",
    "#You can compare your architecture with the 'Architecture.png'\n",
    "\n",
    "from cnn import CNN\n",
    "net = CNN()\n",
    "\n",
    "s = tf.keras.backend.clear_session()\n",
    "model=net.create_net()\n",
    "model.summary()"
   ]
  },
  {
   "cell_type": "markdown",
   "metadata": {
    "id": "O44JOtzgMnPJ"
   },
   "source": [
    "#### Compiling model [No Points]"
   ]
  },
  {
   "cell_type": "markdown",
   "metadata": {
    "id": "VnXk6-GOMnPK"
   },
   "source": [
    "Next prepare the model for training by completing `compile_model()` in <strong>cnn.py</strong>.\n",
    "Remember we are performing 10-way clasification when selecting a loss function. Loss function can be categorical crossentropy. \n",
    "\n",
    "Note that the compile method configures the model for training. You can get more insights into this method [here](https://www.tensorflow.org/api_docs/python/tf/keras/Model)."
   ]
  },
  {
   "cell_type": "code",
   "execution_count": null,
   "metadata": {
    "colab": {
     "base_uri": "https://localhost:8080/"
    },
    "id": "d1oCc11sMnPK",
    "outputId": "59dbab1c-0560-409e-e371-41fbd69d4f55"
   },
   "outputs": [],
   "source": [
    "###############################\n",
    "### DO NOT CHANGE THIS CELL ###\n",
    "###############################\n",
    "\n",
    "# Complete compile_model() in cnn.py.\n",
    "from cnn import CNN\n",
    "net = CNN()\n",
    "model = net.compile_net(model)\n",
    "print(model)"
   ]
  },
  {
   "cell_type": "markdown",
   "metadata": {
    "id": "fcCxKieHRk6L"
   },
   "source": [
    "### 2.1.4 Train the network [8pts total (3pts, 3pts, 2pts) Bonus for Undergrad] <span style=\"color:green\">**[W]**</span>"
   ]
  },
  {
   "cell_type": "markdown",
   "metadata": {
    "id": "ZSPkbMIypNJ6"
   },
   "source": [
    "**Tuning:** Training the network is the next thing to try.  You can set your parameter at the **Defining Variable** section. If your parameters are set properly, you should see the loss of the validation set decreased and the value of accuracy increased. <strong>It may take more than 15 minutes to train your model. </strong>\n",
    "\n",
    "**Expected Result:** You should be able to achieve more than $79\\%$ accuracy on the test set to get full points. If you achieve accuracy between $60\\%$ to $69\\%$, you will only get 3 points. An accuracy between $69\\%$ to $79\\%$ will earn an additional 3pts.\n",
    "\n",
    "- $60\\%$ to $69\\%$ earns 3pts\n",
    "- $69\\%$ to $79\\%$ earns 3pts more (6pts total)\n",
    "- $79\\%$+ earns 2pts more (8pts total)\n",
    "\n",
    "\n"
   ]
  },
  {
   "cell_type": "markdown",
   "metadata": {
    "id": "cXExabcOpAdI"
   },
   "source": [
    "#### Train your own CNN model"
   ]
  },
  {
   "cell_type": "code",
   "execution_count": null,
   "metadata": {
    "colab": {
     "base_uri": "https://localhost:8080/"
    },
    "id": "eeNII5h0EhBa",
    "outputId": "20c25acc-9f2e-4b86-9924-03d2eb545141"
   },
   "outputs": [],
   "source": [
    "###############################\n",
    "### DO NOT CHANGE THIS CELL ###\n",
    "###############################\n",
    "\n",
    "\n",
    "from cnn import CNN\n",
    "\n",
    "net = CNN()\n",
    "batch_size, epochs, init_lr = net.get_vars()\n",
    "\n",
    "def lr_scheduler(epoch):\n",
    "    new_lr = init_lr * 0.9 ** epoch\n",
    "    print(\"Learning rate:\", new_lr)\n",
    "    return new_lr\n",
    "\n",
    "history = model.fit(\n",
    "    x_train, y_train,\n",
    "    batch_size=batch_size,\n",
    "    epochs=epochs,\n",
    "    callbacks=[tf.keras.callbacks.LearningRateScheduler(lr_scheduler)],\n",
    "    shuffle=True,\n",
    "    verbose=1,\n",
    "    initial_epoch=0, \n",
    "    validation_data=(x_test, y_test)\n",
    ")\n",
    "score = model.evaluate(x_test, y_test, verbose=0)\n",
    "print('Test loss:', score[0])\n",
    "print('Test accuracy:', score[1])"
   ]
  },
  {
   "cell_type": "markdown",
   "metadata": {
    "id": "xv_HZge7MnPL"
   },
   "source": [
    "### 2.1.5 Examine accuracy and loss [2pts Bonus for Undergrad] <span style=\"color:green\">**[W]**</span>"
   ]
  },
  {
   "cell_type": "markdown",
   "metadata": {
    "id": "OkcOlCqDMnPL"
   },
   "source": [
    "You should expect to see gradually decreasing loss and gradually increasing accuracy. Examine loss and accuracy by running the cell below, no editing is necessary. Having appropriate looking loss and accuracy plots will earn you the last 2pts for your convolutional neural net."
   ]
  },
  {
   "cell_type": "code",
   "execution_count": null,
   "metadata": {
    "colab": {
     "base_uri": "https://localhost:8080/",
     "height": 590
    },
    "id": "w0dD-7Edm86o",
    "outputId": "85b9f1ed-fe71-4ad1-bd9d-22100dcdc9b7"
   },
   "outputs": [],
   "source": [
    "###############################\n",
    "### DO NOT CHANGE THIS CELL ###\n",
    "###############################\n",
    "\n",
    "# list all data in history\n",
    "print(history.history.keys())\n",
    "\n",
    "# summarize history for accuracy and loss\n",
    "plt.plot(history.history['accuracy'])\n",
    "plt.plot(history.history['val_accuracy'])\n",
    "plt.title('model accuracy')\n",
    "plt.ylabel('accuracy')\n",
    "plt.xlabel('epoch')\n",
    "plt.legend(['train', 'test'], loc='upper left')\n",
    "plt.show()\n",
    "\n",
    "plt.plot(history.history['loss'])\n",
    "plt.plot(history.history['val_loss'])\n",
    "plt.title('model loss')\n",
    "plt.ylabel('loss')\n",
    "plt.xlabel('epoch')\n",
    "plt.legend(['train', 'test'], loc='upper left')\n",
    "plt.show()\n"
   ]
  },
  {
   "cell_type": "code",
   "execution_count": null,
   "metadata": {
    "colab": {
     "base_uri": "https://localhost:8080/",
     "height": 481
    },
    "id": "67Sc8YnEMnPM",
    "outputId": "9ddba3c0-4334-427a-e1d1-e20a1ad70c20"
   },
   "outputs": [],
   "source": [
    "###############################\n",
    "### DO NOT CHANGE THIS CELL ###\n",
    "###############################\n",
    "\n",
    "# make predictions\n",
    "y_pred = model.predict(x_test)\n",
    "y_pred_classes = np.argmax(y_pred, axis=1)\n",
    "y_pred_prob = np.max(y_pred, axis=1)\n",
    "y_gt_classes = np.argmax(y_test, axis=1)\n",
    "\n",
    "from sklearn.metrics import confusion_matrix, accuracy_score\n",
    "plt.figure(figsize=(8, 7))\n",
    "plt.imshow(confusion_matrix(y_gt_classes, y_pred_classes))\n",
    "plt.title('Confusion matrix', fontsize=16)\n",
    "plt.xticks(np.arange(10), class_names, rotation=90, fontsize=12)\n",
    "plt.yticks(np.arange(10), class_names, fontsize=12)\n",
    "plt.colorbar()\n",
    "plt.show()"
   ]
  },
  {
   "cell_type": "markdown",
   "metadata": {
    "id": "mkn21kyUObtK"
   },
   "source": [
    "## 2.2 Exploring Deep CNN Architectures [3pts Bonus for All] <span style=\"color:green\">**[W]**</span>"
   ]
  },
  {
   "cell_type": "markdown",
   "metadata": {
    "id": "OhDboDvPObtK"
   },
   "source": [
    "The network you have produced is rather simple relative to many of those used in industry and research. Researchers have worked to make CNN models deeper and deeper over the past years in an effort to gain higher accuracy in predictions. While your model is only a handful of layers deep, some state of the art deep architectures may include up to 150 layers. However, this process has not been without challenges. \n",
    "\n",
    "One such problem is the problem of the vanishing gradient. The weights of a neural network are updated using the backpropagation algorithm. The backpropagation algorithm makes a small change to each weight in such a way that the loss of the model decreases. Using the chain rule, we can find this gradient for each weight. But, as this gradient keeps flowing backwards to the initial layers, this value keeps getting multiplied by each local gradient. Hence, the gradient becomes smaller and smaller, making the updates to the initial layers very small, increasing the training time considerably.\n",
    "\n",
    "Many tactics have been used in an effort to solve this problem. One architecture, named ResNet, solves the vanishing gradient problem in a unique way. ResNet was developed at Microsoft Research to find better ways to train deep networks. Take a moment to explore how ResNet tackles the vanishing gradient problem by reading the original research paper here: https://arxiv.org/pdf/1512.03385.pdf (also included as PDF in papers directory). \n"
   ]
  },
  {
   "cell_type": "markdown",
   "metadata": {
    "id": "R7JcSZtyObtK"
   },
   "source": [
    "**Question:** In your own words, explain how ResNet addresses the vanishing gradient problem in 1-2 sentences below: (Please type answers directly in the cell below.)"
   ]
  },
  {
   "cell_type": "markdown",
   "metadata": {
    "id": "IU_9UwLTObtK"
   },
   "source": [
    "**Answer:** \n"
   ]
  },
  {
   "cell_type": "markdown",
   "metadata": {
    "id": "6FxKE3QN2yO6"
   },
   "source": [
    "# 3: Random Forests [50pts; 40pts + 10pts Bonus for All] <span style=\"color:blue\">**[P]**</span> <span style=\"color:green\">**[W]**</span>\n",
    "\n",
    "**NOTE**:  Please use sklearn's ExtraTreeClassifier in your Random Forest implementation. [You can find more details about this classifier here.](https://scikit-learn.org/stable/modules/generated/sklearn.tree.ExtraTreeClassifier.html)\n",
    "\n",
    "For context, the general difference between an extra tree and decision tree classifier is that the decision tree optimizes which feature to reduce entropy on and at what value to split, while an extra tree randomly splits on the features given."
   ]
  },
  {
   "cell_type": "markdown",
   "metadata": {
    "id": "5zP6DnH62yO9"
   },
   "source": [
    "## 3.1 Random Forest Implementation [35pts] <span style=\"color:blue\">**[P]**</span>\n",
    "\n",
    "The decision boundaries drawn by decision or extra trees are very sharp, and fitting a tree of unbounded depth to a list of examples almost inevitably leads to **overfitting**. In an attempt to decrease the variance of an extra tree, we're going to use a technique called 'Bootstrap Aggregating' (often abbreviated 'bagging'). This stems from the idea that a collection of weak learners can learn decision boundaries as well as a strong learner. This is commonly called a Random Forest.\n",
    "\n",
    "We can build a Random Forest as a collection of extra trees, as follows:\n",
    "\n",
    "1. For every tree in the random forest, we're going to \n",
    "\n",
    "    a) Subsample the examples with replacement. Note that in this question, the size of the subsample data is equal to the original dataset. \n",
    "    \n",
    "    b) From the subsamples in part a, choose attributes at random without replacement to learn on in accordance with a provided attribute subsampling rate. Based on what it was mentioned in the class, we randomly pick features in each split. We use a more general approach here to make the programming part easier. Let's randomly pick some features (65% percent of features) and grow the tree based on the pre-determined randomly selected features. Therefore, there is no need to find random features in each split.\n",
    "    \n",
    "    c) Fit an extra tree to the subsample of data we've chosen to a certain depth.\n",
    "    \n",
    "Classification for a random forest is then done by taking a majority vote of the classifications yielded by each tree in the forest after it classifies an example.\n",
    "\n",
    "In the <strong>random_forest.py</strong> file, complete the following functions:\n",
    "  * <strong>_bootstrapping</strong>: this function will be used in `bootstrapping()`\n",
    "  * <strong>fit</strong>: Fit the extra trees initialized in `__init__` with the datasets created in `bootstrapping()`. You will need to call `bootstrapping()`. \n",
    "\n",
    "**NOTES:**\n",
    "1. In the Random Forest Class, X is assumed to be a matrix with num_training rows and num_features columns where num_training is the number of total records and num_features is the number of features of each record. y is assumed to be a vector of labels of length num_training.\n",
    "2. Look out for TODO's for the parts that need to be implemented\n",
    "3. If you receive any ``SettingWithCopyWarning`` warnings from the Pandas library, you can safely ignore them."
   ]
  },
  {
   "cell_type": "markdown",
   "metadata": {
    "id": "v8E74hGIm86t"
   },
   "source": [
    "## 3.2 Hyperparameter Tuning with a Random Forest [5pts] <span style=\"color:blue\">**[P]**</span>\n",
    "\n",
    "In machine learning, hyperparameters are parameters that are set before the learning process begins. The max_depth, num_estimators, or max_features variables from 3.1 are examples of different hyperparameters for a random forest model. Let's first review the dataset in a bit more detail.\n",
    "\n",
    "#### Dataset Objective\n",
    "\n",
    "Imagine that we are herbologists and mycologists working to document the various properties of mushrooms for a machine learning model so that an amateur can safely determine whether or not a mushroom is usable in the kitchen for cooking. We know that mushrooms exhibit a variety of properties that we can track and associate with their edibility. We are tasked with the responsibility of coming up with a method for determining the likelihood of any given mushroom, exhibiting a series of traits, is edible or poisonous. We will then use this information to document what traits a person should look for when inspecting a mushroom for consumption.\n",
    "\n",
    "After much deliberation amongst the team, you come to a conclusion that we can use the past observations of other mushroom specimens to create a model.\n",
    "\n",
    "We will use our random forest algorithm from Q3.1 to predict if a mushroom is edible or not.\n",
    "\n",
    "You can find more information on the dataset [here](https://archive.ics.uci.edu/ml/datasets/Mushroom)."
   ]
  },
  {
   "cell_type": "markdown",
   "metadata": {
    "id": "dYwbegdZm86t"
   },
   "source": [
    "#### Loading the dataset\n",
    "\n",
    "\n",
    "The dataset that the company has collected has the following features:\n",
    "\n",
    "There were 22 features used in this dataset, with the values converted from letter values to numerical ones (a==>1, b==>2, ...,z==>26).The features observed\n",
    "\n",
    "Inputs:\n",
    "\n",
    "1. cap-shape: bell=b,conical=c,convex=x,flat=f, knobbed=k,sunken=s\n",
    "2. cap-surface: fibrous=f,grooves=g,scaly=y,smooth=s\n",
    "3. cap-color: brown=n,buff=b,cinnamon=c,gray=g,green=r, pink=p,purple=u,red=e,white=w,yellow=y\n",
    "4. bruises: bruises=t,no=f\n",
    "5. odor: almond=a,anise=l,creosote=c,fishy=y,foul=f, musty=m,none=n,pungent=p,spicy=s\n",
    "6. gill-attachment: attached=a,descending=d,free=f,notched=n\n",
    "7. gill-spacing: close=c,crowded=w,distant=d\n",
    "8. gill-size: broad=b,narrow=n\n",
    "9. gill-color: black=k,brown=n,buff=b,chocolate=h,gray=g, green=r,orange=o,pink=p,purple=u,red=e, white=w,yellow=y\n",
    "10. stalk-shape: enlarging=e,tapering=t\n",
    "11. stalk-root: bulbous=b,club=c,cup=u,equal=e, rhizomorphs=z,rooted=r,missing=?\n",
    "12. stalk-surface-above-ring: fibrous=f,scaly=y,silky=k,smooth=s\n",
    "13. stalk-surface-below-ring: fibrous=f,scaly=y,silky=k,smooth=s\n",
    "14. stalk-color-above-ring: brown=n,buff=b,cinnamon=c,gray=g,orange=o, pink=p,red=e,white=w,yellow=y\n",
    "15. stalk-color-below-ring: brown=n,buff=b,cinnamon=c,gray=g,orange=o, pink=p,red=e,white=w,yellow=y\n",
    "16. veil-type: partial=p,universal=u\n",
    "17. veil-color: brown=n,orange=o,white=w,yellow=y\n",
    "18. ring-number: none=n,one=o,two=t\n",
    "19. ring-type: cobwebby=c,evanescent=e,flaring=f,large=l, none=n,pendant=p,sheathing=s,zone=z\n",
    "20. spore-print-color: black=k,brown=n,buff=b,chocolate=h,green=r, orange=o,purple=u,white=w,yellow=y\n",
    "21. population: abundant=a,clustered=c,numerous=n, scattered=s,several=v,solitary=y\n",
    "22. habitat: grasses=g,leaves=l,meadows=m,paths=p, urban=u,waste=w,woods=d\n",
    "\n",
    "Output:\n",
    "\n",
    "23. (edibility) target value:\n",
    "    * p (aka 16) means the mushroom is poisonous \n",
    "    * e (aka 5) means the mushroom is edible\n",
    "    \n",
    "Your random forest model will try to predict this variable."
   ]
  },
  {
   "cell_type": "code",
   "execution_count": null,
   "metadata": {
    "id": "fN4HGAsXMnPO"
   },
   "outputs": [],
   "source": [
    "###############################\n",
    "### DO NOT CHANGE THIS CELL ###\n",
    "###############################\n",
    "from sklearn import preprocessing\n",
    "import pandas as pd\n",
    "preprocessor = preprocessing.LabelEncoder()\n",
    "\n",
    "data_train = pd.read_csv(\"./data/mushroom_train_clean.csv\")\n",
    "data_test = pd.read_csv(\"./data/mushroom_test_clean.csv\")\n",
    "\n",
    "X_train = data_train.drop(columns = 'ediblilty')\n",
    "y_train = data_train['ediblilty']\n",
    "y_train = y_train.to_numpy()\n",
    "X_test = data_test.drop(columns = 'ediblilty')\n",
    "X_test = np.array(X_test)\n",
    "y_test = data_test['ediblilty']\n",
    "y_test = y_test.to_numpy()\n",
    "X_train, y_train, X_test, y_test = np.array(X_train), np.array(y_train), np.array(X_test), np.array(y_test)"
   ]
  },
  {
   "cell_type": "code",
   "execution_count": null,
   "metadata": {
    "id": "2uFNR6ikMnPO",
    "outputId": "ad4681bd-45f9-4b4a-ebab-ca1793c07822"
   },
   "outputs": [],
   "source": [
    "###############################\n",
    "### DO NOT CHANGE THIS CELL ###\n",
    "###############################\n",
    "print(X_train.shape, y_train.shape, X_test.shape, y_test.shape)\n",
    "assert X_train.shape == (7124, 22)\n",
    "assert y_train.shape == (7124,)\n",
    "assert X_test.shape == (1000, 22)\n",
    "assert y_test.shape == (1000,)\n"
   ]
  },
  {
   "cell_type": "markdown",
   "metadata": {
    "id": "BlxXUpNE2yPA"
   },
   "source": [
    "In the following codeblock, train your random forest model with different values for max_depth, n_estimators, or max_features and evaluate each model on the held-out test set. Try to choose a combination of hyperparameters that maximizes your prediction accuracy on the test set (aim for 95%+). \n",
    "\n",
    "In **random_forest.py**, once you are satisfied with your chosen parameters, update the following function:\n",
    "- **select_hyperparameters**: change the values for ```max_depth```, ```n_estimators```, and ```max_features```to your chosen values\n",
    "\n",
    "Submit this file to Gradescope. You must achieve at least a **95% accuracy** against the test set in Gradescope to receive full credit for this section."
   ]
  },
  {
   "cell_type": "code",
   "execution_count": null,
   "metadata": {},
   "outputs": [],
   "source": [
    "###############################\n",
    "### DO NOT CHANGE THIS CELL ###\n",
    "###############################\n",
    "from random_forest import RandomForest\n",
    "\n",
    "'''\n",
    "Once you have implemented Random forest, you can run this cell. If you implemented _bootStrapping correctly,\n",
    "then this cell should execute without any errors.\n",
    "'''\n",
    "test_seed = 1\n",
    "num_feats = 40\n",
    "max_feats = 0.65\n",
    "rf_test = RandomForest(4, 5, max_feats)\n",
    "\n",
    "row_idx, col_idx = rf_test._bootstrapping(15, num_feats, test_seed)\n",
    "assert np.array_equal(row_idx, np.array([5, 11, 12,  8,  9, 11,  5,  0,  0,  1, 12,  7, 13, 12,  6]))\n",
    "assert np.array_equal(col_idx,\n",
    "                      np.array([30,  2, 16, 32, 31,  5, 34,  6, 15, 19, 10,  3, 21,\n",
    "                                8, 39, 12, 24, 1,  7, 35, 26, 13, 22,  0, 27, 17]))"
   ]
  },
  {
   "cell_type": "code",
   "execution_count": null,
   "metadata": {
    "colab": {
     "base_uri": "https://localhost:8080/",
     "height": 125
    },
    "id": "6n8GGVU7tYGh",
    "outputId": "4a83b962-d917-4a53-9dc8-2681735d9396"
   },
   "outputs": [],
   "source": [
    "\"\"\"\n",
    "TODO: \n",
    "n_estimators defines how many Extra trees are fitted for the random forest.\n",
    "max_depth defines a stop condition when the tree reaches to a certain depth.\n",
    "max_features controls the percentage of features that are used to fit each extra tree.\n",
    "\n",
    "Tune these three parameters to achieve a better accuracy. n_estimators and max_depth must both\n",
    "be at least 3 in value for moderately reliable answers. While you can use the provided test set\n",
    "to evaluate your implementation, you will need to obtain 95% on the test set to receive full\n",
    "credit for this section.\n",
    "\"\"\"\n",
    "from random_forest import RandomForest\n",
    "\n",
    "################# DO NOT CHANGE THIS RANDOM SEED ####################\n",
    "student_random_seed = 4641 + 7641\n",
    "#####################################################################\n",
    "\n",
    "################# CHANGE THESE VALUES ###############################\n",
    "n_estimators = None #Hint: Consider values between 3-12.\n",
    "max_depth = None # Hint: Consider values betweeen 3-12.\n",
    "max_features = None # Hint: Consider values betweeen 0.3-1.0.\n",
    "#####################################################################\n",
    "random_forest = RandomForest(n_estimators, max_depth, max_features, random_seed=student_random_seed)\n",
    "random_forest.fit(X_train, y_train)\n",
    "accuracy=random_forest.OOB_score(X_test, y_test)\n",
    "print(\"accuracy: %.4f\" % accuracy)"
   ]
  },
  {
   "cell_type": "markdown",
   "metadata": {
    "id": "hIQa-UIoMnPP"
   },
   "source": [
    "**DON'T FORGET**: Once you are satisfied with your chosen parameters, change the values for ```max_depth```, ```n_estimators```, and ```max_features``` in the ```select_hyperparameters()``` function of your RandomForest class in ```random_forest.py``` to your chosen values, and then submit this file to Gradescope. You must achieve at least a **95% accuracy** against the test set in Gradescope to receive full credit for this section."
   ]
  },
  {
   "cell_type": "markdown",
   "metadata": {
    "id": "SQ3Urx3Em86y"
   },
   "source": [
    "## 3.3 Plotting Feature Importance [5pts Bonus for All] <span style=\"color:green\">**[W]**</span>\n",
    "\n",
    "While building tree-based models, it's common to quantify how well splitting on a particular feature in an extra tree helps with predicting the target label in a dataset. Machine learning practicioners typically use \"Gini importance\", or the (normalized) total reduction in entropy brought by that feature to evaluate how important that feature is for predicting the target variable.\n",
    "\n",
    "Gini importance is typically calculated as the reduction in entropy from reaching a split in an extra tree weighted by the probability of reaching that split in the extra tree. Sklearn internally computes the probability for reaching a split by finding the total number of samples that reaches it during the training phase divided by the total number of samples in the dataset. This weighted value is our feature importance.\n",
    "\n",
    "Let's think about what this metric means with an example. A high probabiity of reaching a split on \"Cap Color\" in an extra tree trained on our mushroom dataset (many samples will reach this split for a decision) and a large reduction in entropy from splitting on \"Cap Color\" will result in a high feature importance value for \"Cap Color\". This could mean \"Cap Color\" is a very important feature for predicting the probability of a mushroom being edible. On the other hand, a low probability of reaching a split on \"population\" category in an extra tree and a low reduction in entropy from splitting on \"population\" will result in a low feature importance value. This could mean \"population\" is not a very informative feature for predicting a mushroom's probability of edibility in our extra tree. **Thus, the higher the feature importance value, the more important the feature is to predicting the target label.**\n",
    "\n",
    "Fortunately for us, fitting a sklearn.ExtraTreeClassifier to a dataset auomatically computes the Gini importance for every feature in the extra tree and stores these values in a **feature\\_importances\\_** variable. [Review the docs for more details on how to access this variable](https://scikit-learn.org/stable/modules/generated/sklearn.tree.ExtraTreeClassifier.html#sklearn.tree.ExtraTreeClassifier.feature_importances_)\n",
    "\n",
    "In the <strong>random_forest.py</strong> file, complete the following function:\n",
    "  * <strong>plot_feature_importance</strong>: Make sure to sort the bars in descending order and remove any features with feature importance of 0\n",
    "  \n",
    "In the cell below, call your implementation of `plot_feature_importance()` and display a bar plot that shows the feature importance values for at least one extra tree in your tuned random forest from Q3.2."
   ]
  },
  {
   "cell_type": "code",
   "execution_count": null,
   "metadata": {
    "id": "irV3hL6mm86z",
    "scrolled": false
   },
   "outputs": [],
   "source": [
    "# TODO: Complete plot_feature_importance() in random_forest.py\n",
    "\n",
    "random_forest.plot_feature_importance(data_train)"
   ]
  },
  {
   "cell_type": "markdown",
   "metadata": {
    "id": "V0pMnninMnPV"
   },
   "source": [
    "Note that there isn't a \"correct\" answer here. We simply want you to investigate how different features in your random forest contribute to predicting the target variable."
   ]
  },
  {
   "cell_type": "markdown",
   "metadata": {
    "id": "3mHucQ7HMnPV"
   },
   "source": [
    "## 3.4 Improvement [5 pts Bonus for All] <span style=\"color:green\">**[W]**</span>\n",
    "\n",
    "Please answer the following two questions:\n",
    "1. In case we do not get a high accuracy, what are some potential causes for why a Random Forest extra tree model may not produce high accuracies?\n",
    "2. What are some ways to improve on these potential causes?\n"
   ]
  },
  {
   "cell_type": "markdown",
   "metadata": {},
   "source": [
    "Answers:\n",
    "\n",
    "1.  \n",
    "\n",
    "2.  "
   ]
  },
  {
   "cell_type": "markdown",
   "metadata": {
    "id": "s1udwVq0PVFz"
   },
   "source": [
    "# 4: (Bonus for All) SVM [30 pts] <span style=\"color:green\">**[W]**</span> <span style=\"color:blue\">**[P]**</span>\n"
   ]
  },
  {
   "cell_type": "markdown",
   "metadata": {
    "id": "FG6jrvc_m861"
   },
   "source": [
    "## 4.1 Fitting an SVM classifier by hand [20 pts] <span style=\"color:green\">**[W]**</span>\n",
    "\n",
    "Consider a dataset with the following points in 2-dimensional space:\n",
    "\n",
    "| $$x_1$$ | $$x_2$$ | $$y$$ |\n",
    "| --- | --- | --- |\n",
    "| 0 | 0 | -1 |\n",
    "| 0 | 4 | -1 |\n",
    "| 4 | 0 | -1 |\n",
    "| 4 | 4 | 1 |\n",
    "| 8 | 0 | 1 |\n",
    "| 8 | 8 | 1 |\n",
    "\n",
    "Here, $x_1$ and $x_2$ are features and $y$ is the label.\n",
    "\n",
    "The max margin classifier has the formulation,\n",
    "\n",
    "$$\\min{||\\mathbf{\\theta}||^2} $$\n",
    "\n",
    "$$s.t.\\ y_i(\\mathbf{x_i} \\mathbf{\\theta} + b) ≥ 1 \\ \\ \\ \\ \\forall \\ i$$\n",
    "\n",
    "**Hint:** $\\mathbf{x_i}$ are the suppport vectors. Margin is equal to $\\frac{1}{||\\mathbf{\\theta}||}$ and full margin is equal to $\\frac{2}{||\\mathbf{\\theta}||}$. You might find it useful to plot the points in a 2D plane. When calculating the $\\theta$ you don't need to consider the bias term.\n",
    "\n",
    "(1) Are the points linearly separable? Does adding the point $\\mathbf{x} = (8, 4)$, $y = -1$ change the separability? (2 pts)\n",
    "\n",
    "(2) According to the max-margin formulation, find the separating hyperplane. Do not consider the new point from part 1 in your calculations for this current question or subsequent parts. (You should give some kind of explanation or calculation on how you found the hyperplane.) (4 pts)\n",
    "\n",
    "(3) Find a vector parallel to the optimal vector $\\mathbf{\\theta}$. (4 pts)\n",
    "\n",
    "(4) Calculate the value of the margin (single-sided) achieved by this $\\mathbf{\\theta}$? (4 pts)\n",
    "\n",
    "(5) Solve for $\\mathbf{\\theta}$, given that the margin is equal to $1/||\\mathbf{\\theta}||$. (4 pts)\n",
    "\n",
    "(6) If we remove one of the points from the original data the SVM solution might change. Find all such points which change the solution. (2 pts)\n"
   ]
  },
  {
   "cell_type": "markdown",
   "metadata": {},
   "source": [
    "Answers:\n",
    "\n",
    "(1) \n",
    "\n",
    "(2) \n",
    "\n",
    "(3) \n",
    "\n",
    "(4) \n",
    "\n",
    "(5) \n",
    "\n",
    "(6) "
   ]
  },
  {
   "cell_type": "markdown",
   "metadata": {
    "id": "NacpSq-Tm862"
   },
   "source": [
    "## 4.2 Feature Mapping [10 pts] <span style=\"color:blue\">**[P]**</span>\n",
    "\n",
    "Let's look at a dataset where the datapoint can't be classified with a good accuracy using a linear classifier. Run the below cell to generate the dataset.\n",
    "\n",
    "We will also see what happens when we try to fit a linear classifier to the dataset."
   ]
  },
  {
   "cell_type": "code",
   "execution_count": null,
   "metadata": {
    "colab": {
     "base_uri": "https://localhost:8080/",
     "height": 320
    },
    "id": "LmyYQFamm862",
    "outputId": "2ab03801-ca5f-4f98-ffdf-a1ba1aa38f39"
   },
   "outputs": [],
   "source": [
    "###############################\n",
    "### DO NOT CHANGE THIS CELL ###\n",
    "###############################\n",
    "# Generate dataset\n",
    "\n",
    "random_state = 1\n",
    "\n",
    "X_1 = np.random.uniform(size=(100, 2))\n",
    "y_1 = np.zeros((100,)) - 1\n",
    "\n",
    "X_2 = np.random.uniform(size=(100, 2))\n",
    "X_2[:, 0] = X_2[:, 0] + 1.0\n",
    "y_2 = np.ones((100,))\n",
    "\n",
    "X_3 = np.random.uniform(size=(100, 2))\n",
    "X_3[:, 1] = X_3[:, 1] + 1.0\n",
    "y_3 = np.ones((100,))\n",
    "\n",
    "X_4 = np.random.uniform(size=(100, 2))\n",
    "X_4[:, 0] = X_4[:, 0] + 1.0\n",
    "X_4[:, 1] = X_4[:, 1] + 1.0\n",
    "y_4 = np.zeros((100,)) - 1\n",
    "\n",
    "X = np.concatenate([X_1, X_2, X_3, X_4], axis=0)\n",
    "y = np.concatenate([y_1, y_2, y_3, y_4], axis=0)\n",
    "X_train, X_test, y_train, y_test = train_test_split(X, y, \n",
    "                                                    test_size=0.20, \n",
    "                                                    random_state=random_state)\n",
    "\n",
    "f, ax = plt.subplots(nrows=1, ncols=1,figsize=(5,5))\n",
    "plt.scatter(X[:, 0], X[:, 1], c = y, marker = '.') \n",
    "plt.show() "
   ]
  },
  {
   "cell_type": "code",
   "execution_count": null,
   "metadata": {
    "id": "eaVoa1J-m865"
   },
   "outputs": [],
   "source": [
    "###############################\n",
    "### DO NOT CHANGE THIS CELL ###\n",
    "###############################\n",
    "\n",
    "def visualize_decision_boundary(X, y, feature_new=None, h=0.02):\n",
    "    '''\n",
    "    You don't have to modify this function\n",
    "    \n",
    "    Function to vizualize decision boundary\n",
    "    \n",
    "    feature_new is a function to get X with additional features\n",
    "    '''\n",
    "    x1_min, x1_max = X[:, 0].min() - 1, X[:, 0].max() + 1\n",
    "    x2_min, x2_max = X[:, 1].min() - 1, X[:, 1].max() + 1\n",
    "    xx_1, xx_2 = np.meshgrid(np.arange(x1_min, x1_max, h),\n",
    "                         np.arange(x2_min, x2_max, h))\n",
    "\n",
    "    if X.shape[1] == 2:\n",
    "        Z = svm_cls.predict(np.c_[xx_1.ravel(), xx_2.ravel()])\n",
    "    else:\n",
    "        X_conc = np.c_[xx_1.ravel(), xx_2.ravel()]\n",
    "        X_new = feature_new(X_conc)\n",
    "        Z = svm_cls.predict(X_new)\n",
    "    Z = Z.reshape(xx_1.shape)\n",
    "    \n",
    "    f, ax = plt.subplots(nrows=1, ncols=1,figsize=(5,5))\n",
    "    plt.contourf(xx_1, xx_2, Z, cmap=plt.cm.coolwarm, alpha=0.8)\n",
    "    plt.scatter(X[:, 0], X[:, 1], c=y, cmap=plt.cm.coolwarm)\n",
    "    plt.xlabel('X_1')\n",
    "    plt.ylabel('X_2')\n",
    "    plt.xlim(xx_1.min(), xx_1.max())\n",
    "    plt.ylim(xx_2.min(), xx_2.max())\n",
    "    plt.xticks(())\n",
    "    plt.yticks(())\n",
    "\n",
    "    plt.show()"
   ]
  },
  {
   "cell_type": "code",
   "execution_count": null,
   "metadata": {
    "colab": {
     "base_uri": "https://localhost:8080/",
     "height": 336
    },
    "id": "ZJfVwgE2m867",
    "outputId": "7f5cf1c7-bc5e-49d9-e8a4-1a38145d8b11"
   },
   "outputs": [],
   "source": [
    "###############################\n",
    "### DO NOT CHANGE THIS CELL ###\n",
    "###############################\n",
    "# Try to fit a linear classifier to the dataset\n",
    "\n",
    "svm_cls = svm.LinearSVC()\n",
    "svm_cls.fit(X_train, y_train)\n",
    "y_test_predicted = svm_cls.predict(X_test)\n",
    "\n",
    "print(\"Accuracy on test dataset: {}\".format(accuracy_score(y_test, \n",
    "                                                           y_test_predicted)))\n",
    "\n",
    "visualize_decision_boundary(X_train, y_train)"
   ]
  },
  {
   "cell_type": "markdown",
   "metadata": {
    "id": "FuShu_ECm869"
   },
   "source": [
    "We can see that we need a non-linear boundary to be able to successfully classify data in this dataset. By mapping the current feature x to a higher space with more features, linear SVM could be performed on the features in the higher space to learn a non-linear decision boundary. In feature.py, modify create_nl_feature() to add additional features which can help classify in the above dataset. After creating the additional features use code in the further cells to see how well the features perform on the test set. \n",
    "\n",
    "**Note:** You should get a test accuracy above 90%\n",
    "\n",
    "**Hint:** Think of the shape of the decision boundary that would best separate the above points. What additional features could help map the linear boundary to the non-linear one? Look at [this](https://xavierbourretsicotte.github.io/Kernel_feature_map.html) for a detailed analysis of doing the same for points separable with a circular boundary"
   ]
  },
  {
   "cell_type": "code",
   "execution_count": null,
   "metadata": {
    "id": "SIwgaHVkMnPX"
   },
   "outputs": [],
   "source": [
    "###############################\n",
    "### DO NOT CHANGE THIS CELL ###\n",
    "###############################\n",
    "from feature import create_nl_feature\n",
    "\n",
    "X_new = create_nl_feature(X)\n",
    "X_train, X_test, y_train, y_test = train_test_split(X_new, y, \n",
    "                                                    test_size=0.20, \n",
    "                                                    random_state=random_state)"
   ]
  },
  {
   "cell_type": "code",
   "execution_count": null,
   "metadata": {
    "colab": {
     "base_uri": "https://localhost:8080/",
     "height": 336
    },
    "id": "VaUahNX9m87B",
    "outputId": "c4624aea-2dd0-41ad-e844-1ecfdb1e8de9",
    "scrolled": true
   },
   "outputs": [],
   "source": [
    "###############################\n",
    "### DO NOT CHANGE THIS CELL ###\n",
    "###############################\n",
    "# Fit to the new features and vizualize the decision boundary\n",
    "# You should get more than 90% accuracy on test set\n",
    "\n",
    "svm_cls = svm.LinearSVC()\n",
    "svm_cls.fit(X_train, y_train)\n",
    "y_test_predicted = svm_cls.predict(X_test)\n",
    "\n",
    "print(\"Accuracy on test dataset: {}\".format(accuracy_score(y_test, y_test_predicted)))\n",
    "\n",
    "visualize_decision_boundary(X_train, y_train, create_nl_feature)"
   ]
  }
 ],
 "metadata": {
  "accelerator": "GPU",
  "colab": {
   "collapsed_sections": [],
   "name": "SUMMER2022_HW4_Solution.ipynb",
   "provenance": []
  },
  "gpuClass": "standard",
  "kernelspec": {
   "display_name": "Python 3.10.6",
   "language": "python",
   "name": "python3"
  },
  "language_info": {
   "codemirror_mode": {
    "name": "ipython",
    "version": 3
   },
   "file_extension": ".py",
   "mimetype": "text/x-python",
   "name": "python",
   "nbconvert_exporter": "python",
   "pygments_lexer": "ipython3",
   "version": "3.10.6"
  },
  "latex_envs": {
   "LaTeX_envs_menu_present": true,
   "autocomplete": true,
   "bibliofile": "biblio.bib",
   "cite_by": "apalike",
   "current_citInitial": 1,
   "eqLabelWithNumbers": true,
   "eqNumInitial": 1,
   "hotkeys": {
    "equation": "Ctrl-E",
    "itemize": "Ctrl-I"
   },
   "labels_anchors": false,
   "latex_user_defs": false,
   "report_style_numbering": false,
   "user_envs_cfg": false
  },
  "vscode": {
   "interpreter": {
    "hash": "68b83dbc569d5c7bd9c0da317a34e99d050eb881e375dec9172074d77022cce3"
   }
  }
 },
 "nbformat": 4,
 "nbformat_minor": 1
}
