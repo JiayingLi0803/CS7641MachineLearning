{
 "cells": [
  {
   "cell_type": "code",
   "execution_count": 27,
   "metadata": {},
   "outputs": [],
   "source": [
    "import numpy as np\n",
    "from pca import PCA\n",
    "from regression import Regression\n",
    "import matplotlib.pyplot as plt"
   ]
  },
  {
   "cell_type": "code",
   "execution_count": 4,
   "metadata": {},
   "outputs": [],
   "source": [
    "x = np.arange(0, 1.02, 0.02).reshape(-1, 1)\n",
    "y = 4 * np.arange(0, 1.02, 0.02).reshape(-1, 1)"
   ]
  },
  {
   "cell_type": "code",
   "execution_count": 56,
   "metadata": {},
   "outputs": [
    {
     "data": {
      "text/plain": [
       "3.9999999999999982"
      ]
     },
     "execution_count": 56,
     "metadata": {},
     "output_type": "execute_result"
    }
   ],
   "source": [
    "data = np.concatenate((y, x), axis = 1)\n",
    "pca = PCA()\n",
    "pca.fit(data)\n",
    "xtransform = pca.transform(data)\n"
   ]
  },
  {
   "cell_type": "code",
   "execution_count": 51,
   "metadata": {},
   "outputs": [],
   "source": [
    "data = np.concatenate((x, y), axis = 1)\n",
    "pca = PCA()\n",
    "pca.fit(data)\n",
    "xtransform = pca.transform(data, K = 1)\n"
   ]
  },
  {
   "cell_type": "code",
   "execution_count": 52,
   "metadata": {},
   "outputs": [
    {
     "data": {
      "text/plain": [
       "array([[-2.06155281],\n",
       "       [-1.9790907 ],\n",
       "       [-1.89662859],\n",
       "       [-1.81416648],\n",
       "       [-1.73170436],\n",
       "       [-1.64924225],\n",
       "       [-1.56678014],\n",
       "       [-1.48431803],\n",
       "       [-1.40185591],\n",
       "       [-1.3193938 ],\n",
       "       [-1.23693169],\n",
       "       [-1.15446958],\n",
       "       [-1.07200746],\n",
       "       [-0.98954535],\n",
       "       [-0.90708324],\n",
       "       [-0.82462113],\n",
       "       [-0.74215901],\n",
       "       [-0.6596969 ],\n",
       "       [-0.57723479],\n",
       "       [-0.49477268],\n",
       "       [-0.41231056],\n",
       "       [-0.32984845],\n",
       "       [-0.24738634],\n",
       "       [-0.16492423],\n",
       "       [-0.08246211],\n",
       "       [ 0.        ],\n",
       "       [ 0.08246211],\n",
       "       [ 0.16492423],\n",
       "       [ 0.24738634],\n",
       "       [ 0.32984845],\n",
       "       [ 0.41231056],\n",
       "       [ 0.49477268],\n",
       "       [ 0.57723479],\n",
       "       [ 0.6596969 ],\n",
       "       [ 0.74215901],\n",
       "       [ 0.82462113],\n",
       "       [ 0.90708324],\n",
       "       [ 0.98954535],\n",
       "       [ 1.07200746],\n",
       "       [ 1.15446958],\n",
       "       [ 1.23693169],\n",
       "       [ 1.3193938 ],\n",
       "       [ 1.40185591],\n",
       "       [ 1.48431803],\n",
       "       [ 1.56678014],\n",
       "       [ 1.64924225],\n",
       "       [ 1.73170436],\n",
       "       [ 1.81416648],\n",
       "       [ 1.89662859],\n",
       "       [ 1.9790907 ],\n",
       "       [ 2.06155281]])"
      ]
     },
     "execution_count": 52,
     "metadata": {},
     "output_type": "execute_result"
    }
   ],
   "source": [
    "xtransform"
   ]
  },
  {
   "cell_type": "code",
   "execution_count": 57,
   "metadata": {},
   "outputs": [
    {
     "data": {
      "text/plain": [
       "array([[0.  ],\n",
       "       [0.02],\n",
       "       [0.04],\n",
       "       [0.06],\n",
       "       [0.08],\n",
       "       [0.1 ],\n",
       "       [0.12],\n",
       "       [0.14],\n",
       "       [0.16],\n",
       "       [0.18],\n",
       "       [0.2 ],\n",
       "       [0.22],\n",
       "       [0.24],\n",
       "       [0.26],\n",
       "       [0.28],\n",
       "       [0.3 ],\n",
       "       [0.32],\n",
       "       [0.34],\n",
       "       [0.36],\n",
       "       [0.38],\n",
       "       [0.4 ],\n",
       "       [0.42],\n",
       "       [0.44],\n",
       "       [0.46],\n",
       "       [0.48],\n",
       "       [0.5 ],\n",
       "       [0.52],\n",
       "       [0.54],\n",
       "       [0.56],\n",
       "       [0.58],\n",
       "       [0.6 ],\n",
       "       [0.62],\n",
       "       [0.64],\n",
       "       [0.66],\n",
       "       [0.68],\n",
       "       [0.7 ],\n",
       "       [0.72],\n",
       "       [0.74],\n",
       "       [0.76],\n",
       "       [0.78],\n",
       "       [0.8 ],\n",
       "       [0.82],\n",
       "       [0.84],\n",
       "       [0.86],\n",
       "       [0.88],\n",
       "       [0.9 ],\n",
       "       [0.92],\n",
       "       [0.94],\n",
       "       [0.96],\n",
       "       [0.98],\n",
       "       [1.  ]])"
      ]
     },
     "execution_count": 57,
     "metadata": {},
     "output_type": "execute_result"
    }
   ],
   "source": [
    "x"
   ]
  },
  {
   "cell_type": "code",
   "execution_count": 47,
   "metadata": {},
   "outputs": [
    {
     "data": {
      "text/plain": [
       "<matplotlib.collections.PathCollection at 0x7fe0804e7460>"
      ]
     },
     "execution_count": 47,
     "metadata": {},
     "output_type": "execute_result"
    },
    {
     "data": {
      "image/png": "[encoded data removed]",
      "text/plain": [
       "<Figure size 640x480 with 1 Axes>"
      ]
     },
     "metadata": {},
     "output_type": "display_data"
    }
   ],
   "source": [
    "plt.scatter(xtransform[:,0], xtransform[:,1])"
   ]
  }
 ],
 "metadata": {
  "kernelspec": {
   "display_name": "Python 3.10.6 ('ml_hw3')",
   "language": "python",
   "name": "python3"
  },
  "language_info": {
   "codemirror_mode": {
    "name": "ipython",
    "version": 3
   },
   "file_extension": ".py",
   "mimetype": "text/x-python",
   "name": "python",
   "nbconvert_exporter": "python",
   "pygments_lexer": "ipython3",
   "version": "3.10.6"
  },
  "orig_nbformat": 4,
  "vscode": {
   "interpreter": {
    "hash": "11df41fb66f351fa5491a99809da588bc9660309cb97e01bb4eb789da9717d67"
   }
  }
 },
 "nbformat": 4,
 "nbformat_minor": 2
}
