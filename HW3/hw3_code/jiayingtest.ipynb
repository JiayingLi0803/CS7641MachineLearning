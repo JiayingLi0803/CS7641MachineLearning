{
 "cells": [
  {
   "cell_type": "code",
   "execution_count": 1,
   "metadata": {},
   "outputs": [],
   "source": [
    "import numpy as np"
   ]
  },
  {
   "cell_type": "code",
   "execution_count": 53,
   "metadata": {},
   "outputs": [],
   "source": [
    "def rmse(pred, label):  # [5pts]\n",
    "    return np.sqrt(np.sum((pred-label)**2)/len(pred))"
   ]
  },
  {
   "cell_type": "code",
   "execution_count": 72,
   "metadata": {},
   "outputs": [],
   "source": [
    "xtrain = np. array([[-0.41976616, -1.39997687, -1.07323997,  1.86739216,  3.50107668,0.88718145],\n",
    "                        [-0.41976616, -1.1957663 , -0.95071363,  0.7952867 ,  1.71423424,0.24391817],\n",
    "                        [-0.41976616, -0.99155574, -0.82818729,  0.02949708,  0.43791821,-0.2155556 ],\n",
    "                        [-0.41976616, -0.78734518, -0.70566095, -0.42997669, -0.32787141,-0.49123986],\n",
    "                        [-0.41976616, -0.58313461, -0.58313461, -0.58313461, -0.58313461,-0.58313461],\n",
    "                        [-0.41976616, -0.37892405, -0.46060827, -0.42997669, -0.32787141,-0.49123986],\n",
    "                        [-0.41976616, -0.17471348, -0.33808193,  0.02949708,  0.43791821,-0.2155556 ],\n",
    "                        [-0.41976616,  0.02949708, -0.2155556 ,  0.7952867 ,  1.71423424,0.24391817],\n",
    "                        [-0.41976616,  0.23370765, -0.09302926,  1.86739216,  3.50107668,0.88718145]])\n",
    "ytrain = np.array([[ 2.93151 ],\n",
    "                [-0.16618882],\n",
    "                [-0.41168219],\n",
    "                [-1.27454902],\n",
    "                [-1.55952313],\n",
    "                [-1.39394503],\n",
    "                [ 0.08333787],\n",
    "                [ 2.24819231],\n",
    "                [ 2.00011928]])\n",
    "epochs = 5\n",
    "learning_rate = 0.001"
   ]
  },
  {
   "cell_type": "code",
   "execution_count": 74,
   "metadata": {},
   "outputs": [
    {
     "name": "stdout",
     "output_type": "stream",
     "text": [
      "[0. 0. 0. 0. 0. 0.]\n",
      "[-0.00068765 -0.00035787 -0.00059683  0.00860813  0.01498373  0.00478277]\n",
      "[-0.00136627 -0.00070298 -0.001181    0.01717757  0.02989463  0.00954734]\n",
      "[-0.00203591 -0.00103543 -0.00175257  0.02570852  0.04473305  0.01429381]\n",
      "[-0.00269662 -0.00135528 -0.00231161  0.03420116  0.05949934  0.01902225]\n",
      "[[-0.00334843 -0.0016626  -0.00285821  0.04265568  0.07419388  0.02373277]]\n",
      "[3.98767377 3.9742827  3.96112629 3.94820346 3.93551306]\n"
     ]
    }
   ],
   "source": [
    "weight = np.zeros(len(xtrain[0]))\n",
    "cost_history_list = []\n",
    "\n",
    "for epoch in range(epochs):  # begin the process\n",
    "    # compute the dot product between our feature 'X' and weight 'W'\n",
    "    print(weight)\n",
    "    y_pred = xtrain * weight\n",
    "    # calculate the difference between the actual and predicted value \n",
    "    # calculate the cost (Mean squared error - MSE)\n",
    "    cost = rmse(y_pred, ytrain)\n",
    "    weight = weight + learning_rate/len(xtrain) * np.sum(np.dot(xtrain.T, ytrain-y_pred), axis=1)\n",
    "    cost_history_list.append(cost)\n",
    "print(np.array([weight]))\n",
    "print(np.array(cost_history_list))"
   ]
  },
  {
   "cell_type": "code",
   "execution_count": null,
   "metadata": {},
   "outputs": [],
   "source": [
    "linear_GD = np.array([[-0.00055807],\n",
    "                    [-0.0002771 ],\n",
    "                    [-0.00047637],\n",
    "                    [ 0.00710928],\n",
    "                    [ 0.01236565],\n",
    "                    [ 0.00395546]])\n",
    "\n",
    "linear_GD_loss = np.array([1.6224629259205612,\n",
    "                            1.6169984564771551,\n",
    "                            1.6115674174496362,\n",
    "                            1.6061696355422785,\n",
    "                            1.6008049381327374])"
   ]
  }
 ],
 "metadata": {
  "kernelspec": {
   "display_name": "Python 3.10.6 ('ml_hw3')",
   "language": "python",
   "name": "python3"
  },
  "language_info": {
   "codemirror_mode": {
    "name": "ipython",
    "version": 3
   },
   "file_extension": ".py",
   "mimetype": "text/x-python",
   "name": "python",
   "nbconvert_exporter": "python",
   "pygments_lexer": "ipython3",
   "version": "3.10.6"
  },
  "orig_nbformat": 4,
  "vscode": {
   "interpreter": {
    "hash": "11df41fb66f351fa5491a99809da588bc9660309cb97e01bb4eb789da9717d67"
   }
  }
 },
 "nbformat": 4,
 "nbformat_minor": 2
}
