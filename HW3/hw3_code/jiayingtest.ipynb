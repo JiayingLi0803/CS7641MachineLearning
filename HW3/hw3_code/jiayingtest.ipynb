{
 "cells": [
  {
   "cell_type": "code",
   "execution_count": 1,
   "metadata": {},
   "outputs": [],
   "source": [
    "import numpy as np"
   ]
  },
  {
   "cell_type": "code",
   "execution_count": 2,
   "metadata": {},
   "outputs": [],
   "source": [
    "def rmse(pred, label):  # [5pts]\n",
    "    return np.sqrt(np.sum((pred-label)**2)/len(pred))"
   ]
  },
  {
   "cell_type": "code",
   "execution_count": 21,
   "metadata": {},
   "outputs": [],
   "source": [
    "xtrain = np. array([[-0.41976616, -1.39997687, -1.07323997,  1.86739216,  3.50107668,0.88718145],\n",
    "                        [-0.41976616, -1.1957663 , -0.95071363,  0.7952867 ,  1.71423424,0.24391817],\n",
    "                        [-0.41976616, -0.99155574, -0.82818729,  0.02949708,  0.43791821,-0.2155556 ],\n",
    "                        [-0.41976616, -0.78734518, -0.70566095, -0.42997669, -0.32787141,-0.49123986],\n",
    "                        [-0.41976616, -0.58313461, -0.58313461, -0.58313461, -0.58313461,-0.58313461],\n",
    "                        [-0.41976616, -0.37892405, -0.46060827, -0.42997669, -0.32787141,-0.49123986],\n",
    "                        [-0.41976616, -0.17471348, -0.33808193,  0.02949708,  0.43791821,-0.2155556 ],\n",
    "                        [-0.41976616,  0.02949708, -0.2155556 ,  0.7952867 ,  1.71423424,0.24391817],\n",
    "                        [-0.41976616,  0.23370765, -0.09302926,  1.86739216,  3.50107668,0.88718145]])\n",
    "ytrain = np.array([[ 2.93151 ],\n",
    "                [-0.16618882],\n",
    "                [-0.41168219],\n",
    "                [-1.27454902],\n",
    "                [-1.55952313],\n",
    "                [-1.39394503],\n",
    "                [ 0.08333787],\n",
    "                [ 2.24819231],\n",
    "                [ 2.00011928]])\n",
    "epochs = 100\n",
    "learning_rate = 0.001\n",
    "c_lambda = 20"
   ]
  }
 ],
 "metadata": {
  "kernelspec": {
   "display_name": "Python 3.10.6 ('ml_hw3')",
   "language": "python",
   "name": "python3"
  },
  "language_info": {
   "codemirror_mode": {
    "name": "ipython",
    "version": 3
   },
   "file_extension": ".py",
   "mimetype": "text/x-python",
   "name": "python",
   "nbconvert_exporter": "python",
   "pygments_lexer": "ipython3",
   "version": "3.10.6"
  },
  "orig_nbformat": 4,
  "vscode": {
   "interpreter": {
    "hash": "11df41fb66f351fa5491a99809da588bc9660309cb97e01bb4eb789da9717d67"
   }
  }
 },
 "nbformat": 4,
 "nbformat_minor": 2
}
