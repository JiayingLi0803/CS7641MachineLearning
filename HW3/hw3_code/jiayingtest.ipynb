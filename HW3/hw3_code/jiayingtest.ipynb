{
 "cells": [
  {
   "cell_type": "code",
   "execution_count": 17,
   "metadata": {},
   "outputs": [],
   "source": [
    "import pandas as pd\n",
    "import numpy as np\n",
    "from svd_recommender import SVDRecommender"
   ]
  },
  {
   "cell_type": "code",
   "execution_count": 45,
   "metadata": {},
   "outputs": [],
   "source": [
    "user_id = 660\n",
    "movies_pool = np.array(\n",
    "            [\n",
    "                \"Ant-Man (2015)\",\n",
    "                \"Iron Man 2 (2010)\",\n",
    "                \"Avengers: Age of Ultron (2015)\",\n",
    "                \"Thor (2011)\",\n",
    "                \"Captain America: The First Avenger (2011)\",\n",
    "                \"Man of Steel (2013)\",\n",
    "                \"Star Wars: Episode IV - A New Hope (1977)\",\n",
    "                \"Ladybird Ladybird (1994)\",\n",
    "                \"Man of the House (1995)\",\n",
    "                \"Jungle Book, The (1994)\",\n",
    "            ]\n",
    "        )\n",
    "top_n = 3"
   ]
  },
  {
   "cell_type": "code",
   "execution_count": 18,
   "metadata": {},
   "outputs": [],
   "source": [
    "recommender = SVDRecommender()\n",
    "recommender.load_movie_data()\n",
    "complete_df_path: str = \"./data/ratings.csv\"\n",
    "complete_ratings_df = pd.read_csv(complete_df_path)\n",
    "R, users_index, movies_index = recommender.create_ratings_matrix(complete_ratings_df)\n",
    "mask = np.isnan(R)\n",
    "masked_array = np.ma.masked_array(R, mask)\n",
    "r_means = np.array(np.mean(masked_array, axis=0))\n",
    "R_filled = masked_array.filled(r_means)\n",
    "R_filled = R_filled - r_means\n",
    "U_k, V_k = recommender.recommender_svd(R_filled, k=8)"
   ]
  },
  {
   "cell_type": "code",
   "execution_count": 53,
   "metadata": {},
   "outputs": [
    {
     "data": {
      "text/plain": [
       "array([6, 5, 8, 9, 7, 2, 0, 1, 3, 4])"
      ]
     },
     "execution_count": 53,
     "metadata": {},
     "output_type": "execute_result"
    }
   ],
   "source": [
    "ui = U_k[users_index[user_id]]\n",
    "likeij = np.zeros(len(movies_pool))\n",
    "for i in range(len(movies_pool)):\n",
    "    movies_id = recommender.get_movie_id_by_name(movies_pool[i])\n",
    "    mj = V_k[:,movies_index[movies_id]]\n",
    "    likeij[i] = np.dot(ui, mj)\n",
    "idx = np.argpartition(likeij, top_n)\n",
    "idx"
   ]
  },
  {
   "cell_type": "code",
   "execution_count": 50,
   "metadata": {},
   "outputs": [
    {
     "data": {
      "text/plain": [
       "array([ 0.0245717 ,  0.05688192,  0.0243008 ,  0.06261842,  0.06004075,\n",
       "       -0.00119561, -0.07140624,  0.        , -0.00050333, -0.00037293])"
      ]
     },
     "execution_count": 50,
     "metadata": {},
     "output_type": "execute_result"
    }
   ],
   "source": [
    "likeij"
   ]
  },
  {
   "cell_type": "code",
   "execution_count": 51,
   "metadata": {},
   "outputs": [
    {
     "name": "stdout",
     "output_type": "stream",
     "text": [
      "Iron Man 2 (2010)\n",
      "Thor (2011)\n",
      "Captain America: The First Avenger (2011)\n"
     ]
    }
   ],
   "source": [
    "for i in idx[-top_n:]:\n",
    "    print(movies_pool[i])"
   ]
  },
  {
   "cell_type": "markdown",
   "metadata": {},
   "source": [
    "predict_expected_outputs = [\n",
    "            \"Avengers: Age of Ultron (2015)\",\n",
    "            \"Captain America: The First Avenger (2011)\",\n",
    "            \"Ant-Man (2015)\",\n",
    "        ]"
   ]
  },
  {
   "cell_type": "code",
   "execution_count": 49,
   "metadata": {},
   "outputs": [
    {
     "data": {
      "text/plain": [
       "{'Ant-Man (2015)': 0.024571695061012807,\n",
       " 'Iron Man 2 (2010)': 0.05688191618869341,\n",
       " 'Avengers: Age of Ultron (2015)': 0.024300799176217223,\n",
       " 'Thor (2011)': 0.0626184185900791,\n",
       " 'Captain America: The First Avenger (2011)': 0.060040754951082416,\n",
       " 'Man of Steel (2013)': -0.0011956106540934558,\n",
       " 'Star Wars: Episode IV - A New Hope (1977)': -0.07140623772362942,\n",
       " 'Ladybird Ladybird (1994)': 0.0,\n",
       " 'Man of the House (1995)': -0.0005033294717124195,\n",
       " 'Jungle Book, The (1994)': -0.000372926402365687}"
      ]
     },
     "execution_count": 49,
     "metadata": {},
     "output_type": "execute_result"
    }
   ],
   "source": [
    "likeDict"
   ]
  }
 ],
 "metadata": {
  "kernelspec": {
   "display_name": "Python 3.10.6 ('ml_hw3')",
   "language": "python",
   "name": "python3"
  },
  "language_info": {
   "codemirror_mode": {
    "name": "ipython",
    "version": 3
   },
   "file_extension": ".py",
   "mimetype": "text/x-python",
   "name": "python",
   "nbconvert_exporter": "python",
   "pygments_lexer": "ipython3",
   "version": "3.10.6"
  },
  "orig_nbformat": 4,
  "vscode": {
   "interpreter": {
    "hash": "11df41fb66f351fa5491a99809da588bc9660309cb97e01bb4eb789da9717d67"
   }
  }
 },
 "nbformat": 4,
 "nbformat_minor": 2
}
