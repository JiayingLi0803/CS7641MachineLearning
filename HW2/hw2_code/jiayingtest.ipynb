{
 "cells": [
  {
   "cell_type": "code",
   "execution_count": 1,
   "metadata": {},
   "outputs": [],
   "source": [
    "import numpy as np\n",
    "from kmeans import *\n",
    "import matplotlib.pyplot as plt"
   ]
  },
  {
   "cell_type": "code",
   "execution_count": 101,
   "metadata": {},
   "outputs": [],
   "source": [
    "np.random.seed(5)\n",
    "points = np.random.randn(15, 3)\n",
    "mu = np.array([[-0.69166075, -0.39675353, -0.6871727 ],\n",
    "[ 0.04221375,  0.58281521, -1.10061918],\n",
    "[ 1.62434536, -0.61175641, -0.52817175]])\n",
    "sigma_grad = np.array([[[0.30792796,  0.07909229, -0.11016917],\n",
    "[0.07909229,  0.86422655,  0.06975468],\n",
    "[-0.11016917,  0.06975468,  0.63212106]],\n",
    "\n",
    "[[0.30792796,  0.07909229, -0.11016917],\n",
    "[0.07909229,  0.86422655,  0.06975468],\n",
    "[-0.11016917,  0.06975468,  0.63212106]],\n",
    "\n",
    "[[0.30792796,  0.07909229, -0.11016917],\n",
    "[0.07909229,  0.86422655,  0.06975468],\n",
    "[-0.11016917,  0.06975468,  0.63212106]]])\n",
    "\n",
    "gamma = np.array([[0.94372325, 0.05503671, 0.00124004],\n",
    "           [0.42366876, 0.57082286, 0.00550839],\n",
    "           [0.65984771, 0.22577041, 0.11438188],\n",
    "           [0.18470545, 0.80788672, 0.00740783],\n",
    "           [0.60368247, 0.32845499, 0.06786254],\n",
    "           [0.5120336 , 0.23109797, 0.25686843],\n",
    "           [0.06053431, 0.93735212, 0.00211357],\n",
    "           [0.76813271, 0.22172086, 0.01014643],\n",
    "           [0.16700188, 0.77894757, 0.05405055],\n",
    "           [0.33447807, 0.24907403, 0.4164479 ],\n",
    "           [0.01402184, 0.3262493 , 0.65972887],\n",
    "           [0.96383555, 0.0279336 , 0.00823084],\n",
    "           [0.0361238 , 0.96272152, 0.00115468],\n",
    "           [0.67723134, 0.09937515, 0.22339351],\n",
    "           [0.8936077 , 0.05003903, 0.05635326]])\n"
   ]
  },
  {
   "cell_type": "code",
   "execution_count": 103,
   "metadata": {},
   "outputs": [
    {
     "data": {
      "text/plain": [
       "array([7.24262844, 5.87248284, 1.88488872])"
      ]
     },
     "execution_count": 103,
     "metadata": {},
     "output_type": "execute_result"
    }
   ],
   "source": [
    "Nk = np.sum(gamma, axis=0)\n",
    "Nk"
   ]
  },
  {
   "cell_type": "code",
   "execution_count": 110,
   "metadata": {},
   "outputs": [
    {
     "data": {
      "text/plain": [
       "array([[ 0.41639664, -0.31224986,  2.29397528],\n",
       "       [ 0.1869343 , -0.14017935,  1.02984181],\n",
       "       [ 0.29114295, -0.21832391,  1.6039388 ],\n",
       "       [ 0.08149712, -0.06111352,  0.44897669],\n",
       "       [ 0.2663613 , -0.19974051,  1.46741395],\n",
       "       [ 0.2259233 , -0.16941664,  1.24463652],\n",
       "       [ 0.0267094 , -0.020029  ,  0.14714506],\n",
       "       [ 0.33892127, -0.25415219,  1.86715486],\n",
       "       [ 0.07368582, -0.05525594,  0.40594336],\n",
       "       [ 0.14758092, -0.11066881,  0.81303966],\n",
       "       [ 0.00618682, -0.00463941,  0.03408388],\n",
       "       [ 0.42527074, -0.31890441,  2.34286368],\n",
       "       [ 0.01593881, -0.01195229,  0.08780869],\n",
       "       [ 0.29881308, -0.22407564,  1.64619443],\n",
       "       [ 0.39428428, -0.29566812,  2.17215585]])"
      ]
     },
     "execution_count": 110,
     "metadata": {},
     "output_type": "execute_result"
    }
   ],
   "source": [
    "np.dot(np.array([gamma[:,0]]).T,np.array([points[0]]))"
   ]
  },
  {
   "cell_type": "code",
   "execution_count": 104,
   "metadata": {},
   "outputs": [
    {
     "ename": "ValueError",
     "evalue": "shapes (15,3) and (15,3) not aligned: 3 (dim 1) != 15 (dim 0)",
     "output_type": "error",
     "traceback": [
      "\u001b[0;31m---------------------------------------------------------------------------\u001b[0m",
      "\u001b[0;31mValueError\u001b[0m                                Traceback (most recent call last)",
      "\u001b[1;32m/Users/jiayingli/Desktop/CS 7641/HW2/hw2_code/jiayingtest.ipynb Cell 4\u001b[0m in \u001b[0;36m<cell line: 1>\u001b[0;34m()\u001b[0m\n\u001b[0;32m----> <a href='vscode-notebook-cell:/Users/jiayingli/Desktop/CS%207641/HW2/hw2_code/jiayingtest.ipynb#X30sZmlsZQ%3D%3D?line=0'>1</a>\u001b[0m mu_new \u001b[39m=\u001b[39m np\u001b[39m.\u001b[39msum(np\u001b[39m.\u001b[39;49mdot(gamma, points), axis\u001b[39m=\u001b[39m\u001b[39m0\u001b[39m)\u001b[39m/\u001b[39mNk\n\u001b[1;32m      <a href='vscode-notebook-cell:/Users/jiayingli/Desktop/CS%207641/HW2/hw2_code/jiayingtest.ipynb#X30sZmlsZQ%3D%3D?line=1'>2</a>\u001b[0m mu_new\u001b[39m.\u001b[39mshape\n",
      "File \u001b[0;32m<__array_function__ internals>:180\u001b[0m, in \u001b[0;36mdot\u001b[0;34m(*args, **kwargs)\u001b[0m\n",
      "\u001b[0;31mValueError\u001b[0m: shapes (15,3) and (15,3) not aligned: 3 (dim 1) != 15 (dim 0)"
     ]
    }
   ],
   "source": [
    "mu_new = np.sum(np.dot(gamma, points), axis=0)/Nk\n",
    "mu_new.shape"
   ]
  },
  {
   "cell_type": "code",
   "execution_count": null,
   "metadata": {},
   "outputs": [],
   "source": [
    "\n",
    "# sigma\n",
    "component1 = gamma.T\n",
    "component2 = np.dot(component1, (points-mu_new).T)\n",
    "component3 = np.dot(component2, points-mu_new)\n",
    "signa_new = component3/Nk\n",
    "pi_new = Nk/len(gamma)\n",
    "return pi_new, mu_new, signa_new"
   ]
  },
  {
   "cell_type": "code",
   "execution_count": 83,
   "metadata": {},
   "outputs": [
    {
     "data": {
      "text/plain": [
       "2.5728950128222356"
      ]
     },
     "execution_count": 83,
     "metadata": {},
     "output_type": "execute_result"
    }
   ],
   "source": [
    "component2 = (np.linalg.det(sigma_i))**(-1/2) #\n",
    "component2"
   ]
  },
  {
   "cell_type": "code",
   "execution_count": 85,
   "metadata": {},
   "outputs": [
    {
     "data": {
      "text/plain": [
       "(15, 3)"
      ]
     },
     "execution_count": 85,
     "metadata": {},
     "output_type": "execute_result"
    }
   ],
   "source": [
    "(points-mu_i).shape # N*D matrix"
   ]
  },
  {
   "cell_type": "code",
   "execution_count": 87,
   "metadata": {},
   "outputs": [
    {
     "data": {
      "text/plain": [
       "array([[ 6.11433072e+00, -9.76162762e-01,  6.10586610e+00],\n",
       "       [ 2.89553777e+00, -9.70156685e-03,  4.09625577e+00],\n",
       "       [-1.22097074e-01, -3.27220081e-01,  1.39870316e+00],\n",
       "       [ 1.92225245e+00, -1.19626652e+00,  1.23000859e+00],\n",
       "       [ 1.59126394e-01,  1.27676341e+00, -1.65972200e+00],\n",
       "       [ 1.07500788e+00,  1.36511900e+00,  4.06205893e+00],\n",
       "       [-3.53066186e+00,  1.63001200e+00, -1.25942052e+00],\n",
       "       [-2.34177338e-01, -5.63860465e-01,  4.40101702e-01],\n",
       "       [ 6.12453317e+00,  5.46342347e-01,  2.18777989e+00],\n",
       "       [ 1.41167818e+00,  2.41774948e-01,  1.13886529e+00],\n",
       "       [ 5.86517915e+00, -9.86724986e-01,  2.20838774e+00],\n",
       "       [ 2.60963944e+00,  3.48649496e-03,  1.93578263e+00],\n",
       "       [ 2.92655460e+00,  1.63253369e+00,  1.27955920e+00],\n",
       "       [ 8.18073453e+00, -7.92383043e-01,  1.84454927e+00],\n",
       "       [ 3.19084988e+00,  4.14985539e-01,  2.02393384e+00]])"
      ]
     },
     "execution_count": 87,
     "metadata": {},
     "output_type": "execute_result"
    }
   ],
   "source": [
    " component31 = np.dot((points-mu_i),np.linalg.inv(sigma_i)) # N*D matrix\n",
    " component31"
   ]
  },
  {
   "cell_type": "code",
   "execution_count": 88,
   "metadata": {},
   "outputs": [
    {
     "data": {
      "text/plain": [
       "array([[ 6.92685335e+00,  1.27278754e+00,  2.65648625e-02,\n",
       "         6.95453238e-01,  5.29623245e-02, -9.15722643e-03,\n",
       "         2.89344380e+00,  3.86843177e-02,  1.03388280e+01,\n",
       "         4.63524348e-01,  8.70811401e+00,  1.54123515e+00,\n",
       "         2.60264600e+00,  1.84327741e+01,  2.52842606e+00],\n",
       "       [-6.43129003e-02, -4.91251810e-03,  6.37696730e-02,\n",
       "         9.52241407e-01,  1.27705085e+00,  2.11340153e+00,\n",
       "         1.69782220e+00,  2.67904572e-01,  6.05989163e-01,\n",
       "         9.67202238e-02,  2.31700886e-01,  1.20090708e-03,\n",
       "         2.82689877e+00, -7.20280218e-02,  3.12148804e-01],\n",
       "       [ 1.90377479e+01,  9.29708254e+00,  1.22355185e+00,\n",
       "         5.93228457e-01,  1.62257050e+00,  1.03359240e+01,\n",
       "         3.69558295e-01,  1.16479416e-01,  1.63277720e+00,\n",
       "         6.61956635e-01,  1.50386300e+00,  1.81264819e+00,\n",
       "         7.68115671e-01,  3.86324766e-01,  1.93646976e+00]])"
      ]
     },
     "execution_count": 88,
     "metadata": {},
     "output_type": "execute_result"
    }
   ],
   "source": [
    "component32 = np.multiply(component31.T,(points-mu_i).T)\n",
    "component32"
   ]
  },
  {
   "cell_type": "code",
   "execution_count": 89,
   "metadata": {},
   "outputs": [
    {
     "data": {
      "text/plain": [
       "array([25.90028831, 10.56495757,  1.31388639,  2.2409231 ,  2.95258368,\n",
       "       12.4401683 ,  4.96082429,  0.42306831, 12.57759434,  1.22220121,\n",
       "       10.4436779 ,  3.35508425,  6.19766044, 18.74707088,  4.77704462])"
      ]
     },
     "execution_count": 89,
     "metadata": {},
     "output_type": "execute_result"
    }
   ],
   "source": [
    "component33 = np.sum(component32, axis=0) # 1*N matrix\n",
    "component33"
   ]
  },
  {
   "cell_type": "code",
   "execution_count": 90,
   "metadata": {},
   "outputs": [
    {
     "data": {
      "text/plain": [
       "array([2.37587645e-06, 5.07982339e-03, 5.18433666e-01, 3.26129235e-01,\n",
       "       2.28483373e-01, 1.98907783e-03, 8.37087184e-02, 8.09341639e-01,\n",
       "       1.85699225e-03, 5.42753184e-01, 5.39739446e-03, 1.86832624e-01,\n",
       "       4.51019309e-02, 8.49425477e-05, 9.17651844e-02])"
      ]
     },
     "execution_count": 90,
     "metadata": {},
     "output_type": "execute_result"
    }
   ],
   "source": [
    "component3 = np.exp(-1/2*component33)\n",
    "component3"
   ]
  },
  {
   "cell_type": "code",
   "execution_count": 92,
   "metadata": {},
   "outputs": [],
   "source": [
    "final = component1*component2*component3"
   ]
  },
  {
   "cell_type": "code",
   "execution_count": 98,
   "metadata": {},
   "outputs": [],
   "source": [
    "a = np.zeros((3,4))"
   ]
  },
  {
   "cell_type": "code",
   "execution_count": 99,
   "metadata": {},
   "outputs": [
    {
     "data": {
      "text/plain": [
       "array([[1., 0., 0., 0.],\n",
       "       [2., 0., 0., 0.],\n",
       "       [3., 0., 0., 0.]])"
      ]
     },
     "execution_count": 99,
     "metadata": {},
     "output_type": "execute_result"
    }
   ],
   "source": [
    "a[:,0] = np.array([1,2,3])\n",
    "a"
   ]
  },
  {
   "cell_type": "code",
   "execution_count": 96,
   "metadata": {},
   "outputs": [
    {
     "data": {
      "text/plain": [
       "array([[3.88129020e-07],\n",
       "       [8.29852442e-04],\n",
       "       [8.46925986e-02],\n",
       "       [5.32772738e-02],\n",
       "       [3.73256057e-02],\n",
       "       [3.24940646e-04],\n",
       "       [1.36748621e-02],\n",
       "       [1.32216041e-01],\n",
       "       [3.03362821e-04],\n",
       "       [8.86654949e-02],\n",
       "       [8.81731632e-04],\n",
       "       [3.05214368e-02],\n",
       "       [7.36796235e-03],\n",
       "       [1.38764235e-05],\n",
       "       [1.49909862e-02]])"
      ]
     },
     "execution_count": 96,
     "metadata": {},
     "output_type": "execute_result"
    }
   ],
   "source": [
    "np.array([final]).T"
   ]
  },
  {
   "cell_type": "code",
   "execution_count": 15,
   "metadata": {},
   "outputs": [
    {
     "name": "stdout",
     "output_type": "stream",
     "text": [
      "[1 1 0 0 2 0 1 2 1 1]\n",
      "0.5248674903677374\n"
     ]
    }
   ],
   "source": [
    "#Import required module\n",
    "from sklearn.cluster import KMeans\n",
    "from sklearn.metrics import silhouette_score\n",
    " \n",
    "#Initialize the class object\n",
    "kmeans = KMeans(n_clusters= 3)\n",
    " \n",
    "#predict the labels of clusters.\n",
    "points = np.array([[-1.43120297,  0.8786823],\n",
    "                [-0.92082436,  0.48852312],\n",
    "                [-0.98384412, -1.95809560],\n",
    "                [ 0.16539071, -2.00230059],\n",
    "                [ 1.13874072, -1.37183974],\n",
    "                [-0.30292898, -1.90092874],\n",
    "                [-1.96110084,  0.25292960],\n",
    "                [ 0.80891560, -0.43945057],\n",
    "                [-0.35643708, -0.16907999],\n",
    "                [-1.15222464,  1.23224667]])\n",
    "label = kmeans.fit_predict(points)\n",
    " \n",
    "print(label)\n",
    "print(silhouette_score(points, label))"
   ]
  },
  {
   "cell_type": "code",
   "execution_count": 16,
   "metadata": {},
   "outputs": [
    {
     "data": {
      "image/png": "[encoded data removed]",
      "text/plain": [
       "<Figure size 640x480 with 1 Axes>"
      ]
     },
     "metadata": {},
     "output_type": "display_data"
    }
   ],
   "source": [
    "#Getting unique labels\n",
    " \n",
    "u_labels = np.unique(label)\n",
    " \n",
    "#plotting the results:\n",
    " \n",
    "for i in u_labels:\n",
    "    plt.scatter(points[label == i , 0] , points[label == i , 1] , label = i)\n",
    "plt.legend()\n",
    "plt.show()"
   ]
  },
  {
   "cell_type": "code",
   "execution_count": 15,
   "metadata": {},
   "outputs": [
    {
     "data": {
      "text/plain": [
       "{0: array([[4.44921468, 0.99067444],\n",
       "        [4.28865161, 1.07127892],\n",
       "        [4.31595483, 1.05237385],\n",
       "        [4.20605954, 1.16302588],\n",
       "        [4.34484718, 0.96594819]]),\n",
       " 1: array([[0.96302552, 1.79996854]]),\n",
       " 2: array([[0.93103109, 2.09965384],\n",
       "        [0.82344716, 2.14171114],\n",
       "        [0.81225409, 2.08657429]]),\n",
       " 3: array([[0.87714783, 2.20467543]])}"
      ]
     },
     "execution_count": 15,
     "metadata": {},
     "output_type": "execute_result"
    }
   ],
   "source": [
    "points = np.array([[4.44921468, 0.99067444],\n",
    "                [0.96302552, 1.79996854],\n",
    "                [4.28865161, 1.07127892],\n",
    "                [0.93103109, 2.09965384],\n",
    "                [0.87714783, 2.20467543],\n",
    "                [4.31595483, 1.05237385],\n",
    "                [0.82344716, 2.14171114],\n",
    "                [4.20605954, 1.16302588],\n",
    "                [4.34484718, 0.96594819],\n",
    "                [0.81225409, 2.08657429]])\n",
    "cluster_idx, centers, _, centers_mapping = KMeans()(points, 4, center_mapping=True)\n",
    "centers_mapping"
   ]
  },
  {
   "cell_type": "code",
   "execution_count": 6,
   "metadata": {},
   "outputs": [
    {
     "data": {
      "image/png": "[encoded data removed]",
      "text/plain": [
       "<Figure size 640x480 with 1 Axes>"
      ]
     },
     "metadata": {},
     "output_type": "display_data"
    }
   ],
   "source": [
    "points = np.array([[-1.43120297,  0.8786823],\n",
    "                            [-0.92082436,  0.48852312],\n",
    "                            [-0.98384412, -1.95809560],\n",
    "                            [ 0.16539071, -2.00230059],\n",
    "                            [ 1.13874072, -1.37183974],\n",
    "                            [-0.30292898, -1.90092874],\n",
    "                            [-1.96110084,  0.25292960],\n",
    "                            [ 0.80891560, -0.43945057],\n",
    "                            [-0.35643708, -0.16907999],\n",
    "                            [-1.15222464,  1.23224667]])\n",
    "plt.scatter(points[:,0],points[:,1])\n",
    "plt.show()"
   ]
  },
  {
   "cell_type": "code",
   "execution_count": 8,
   "metadata": {},
   "outputs": [
    {
     "name": "stdout",
     "output_type": "stream",
     "text": [
      "centers_mapping:  {0: array([[4.44921468, 0.99067444],\n",
      "       [4.28865161, 1.07127892],\n",
      "       [4.31595483, 1.05237385],\n",
      "       [4.20605954, 1.16302588],\n",
      "       [4.34484718, 0.96594819]]), 1: array([[0.93103109, 2.09965384],\n",
      "       [0.87714783, 2.20467543],\n",
      "       [0.82344716, 2.14171114],\n",
      "       [0.81225409, 2.08657429]]), 2: array([[0.96302552, 1.79996854]])}\n",
      "cluster_idx:  [0 2 0 1 1 0 1 0 0 1]\n"
     ]
    },
    {
     "data": {
      "text/plain": [
       "array([[0.18295228, 0.        , 0.11392477, 0.11768176, 0.11184924,\n",
       "        0.10678458, 0.08484272, 0.20462076, 0.13970259, 0.10350404]])"
      ]
     },
     "execution_count": 8,
     "metadata": {},
     "output_type": "execute_result"
    }
   ],
   "source": [
    "coefficient, test_mu_ins, test_mu_outs = silhouette_coefficient(points, cluster_idx, centers,centers_mapping)\n",
    "test_mu_ins"
   ]
  }
 ],
 "metadata": {
  "kernelspec": {
   "display_name": "Python 3.9.13 ('ml_hw2')",
   "language": "python",
   "name": "python3"
  },
  "language_info": {
   "codemirror_mode": {
    "name": "ipython",
    "version": 3
   },
   "file_extension": ".py",
   "mimetype": "text/x-python",
   "name": "python",
   "nbconvert_exporter": "python",
   "pygments_lexer": "ipython3",
   "version": "3.9.13"
  },
  "orig_nbformat": 4,
  "vscode": {
   "interpreter": {
    "hash": "44cef8d86bc937c70a20b05681b5ec92c9fbbab6d7a3bc6b35eb20c25af5f5f5"
   }
  }
 },
 "nbformat": 4,
 "nbformat_minor": 2
}
